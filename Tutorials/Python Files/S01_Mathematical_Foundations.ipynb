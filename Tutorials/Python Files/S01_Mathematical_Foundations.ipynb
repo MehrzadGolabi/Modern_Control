{
  "cells": [
    {
      "cell_type": "markdown",
      "metadata": {},
      "source": [
        "# Season 1: Mathematical Foundations for Modern Control\n",
        "\n",
        "**Prerequisites:** Basic linear algebra\n",
        "\n",
        "**Python Version:** 3.8+\n",
        "\n",
        "**Required Libraries:** NumPy, SciPy, Matplotlib, SymPy\n",
        "\n",
        "This notebook provides a comprehensive introduction to matrix operations and linear algebra concepts essential for modern control theory using Python.\n"
      ]
    },
    {
      "cell_type": "markdown",
      "metadata": {},
      "source": [
        "## Installation\n",
        "\n",
        "First, ensure you have the required packages installed. Uncomment and run the cell below if needed:\n"
      ]
    },
    {
      "cell_type": "code",
      "execution_count": null,
      "metadata": {},
      "outputs": [],
      "source": [
        "# !pip install numpy scipy matplotlib sympy\n"
      ]
    },
    {
      "cell_type": "markdown",
      "metadata": {},
      "source": [
        "## Import Required Libraries\n"
      ]
    },
    {
      "cell_type": "code",
      "execution_count": 6,
      "metadata": {},
      "outputs": [
        {
          "name": "stdout",
          "output_type": "stream",
          "text": [
            "All libraries imported successfully!\n",
            "NumPy version: 2.3.1\n"
          ]
        }
      ],
      "source": [
        "import numpy as np\n",
        "from scipy import linalg as la\n",
        "import matplotlib.pyplot as plt\n",
        "from sympy import symbols, Matrix, simplify\n",
        "import warnings\n",
        "\n",
        "# Set random seed for reproducibility\n",
        "np.random.seed(0)\n",
        "\n",
        "# Configure matplotlib for better-looking plots\n",
        "plt.style.use('seaborn-v0_8-darkgrid')\n",
        "plt.rcParams['figure.figsize'] = (10, 6)\n",
        "plt.rcParams['font.size'] = 10\n",
        "\n",
        "# Suppress minor warnings\n",
        "warnings.filterwarnings('ignore')\n",
        "\n",
        "print(\"All libraries imported successfully!\")\n",
        "print(f\"NumPy version: {np.__version__}\")\n"
      ]
    },
    {
      "cell_type": "markdown",
      "metadata": {},
      "source": [
        "## Section 0: Python and NumPy Basics\n",
        "\n",
        "### Basic Arithmetic Operators\n"
      ]
    },
    {
      "cell_type": "code",
      "execution_count": 7,
      "metadata": {},
      "outputs": [
        {
          "name": "stdout",
          "output_type": "stream",
          "text": [
            "Addition: 5\n",
            "Subtraction: -1\n",
            "Multiplication: 6\n",
            "Division: 0.6666666666666666\n"
          ]
        }
      ],
      "source": [
        "# Basic arithmetic operations in Python\n",
        "addition = 2 + 3\n",
        "subtraction = 2 - 3\n",
        "multiplication = 2 * 3\n",
        "division = 2 / 3\n",
        "\n",
        "print(f\"Addition: {addition}\")\n",
        "print(f\"Subtraction: {subtraction}\")\n",
        "print(f\"Multiplication: {multiplication}\")\n",
        "print(f\"Division: {division}\")\n"
      ]
    },
    {
      "cell_type": "code",
      "execution_count": 8,
      "metadata": {},
      "outputs": [
        {
          "name": "stdout",
          "output_type": "stream",
          "text": [
            "2 + 3 * 4 = 14\n",
            "(2 + 3) * 4 = 20\n",
            "1 / (2 + 3^2) + 4/5 * 6/7 = 0.7766233766233768\n",
            "1 / 2 + 3^2 + 4/5 * 6/7 = 10.185714285714285\n"
          ]
        }
      ],
      "source": [
        "# Order of operations (PEMDAS/BODMAS)\n",
        "x = 2 + 3 * 4\n",
        "print(f\"2 + 3 * 4 = {x}\")\n",
        "\n",
        "x = (2 + 3) * 4\n",
        "print(f\"(2 + 3) * 4 = {x}\")\n",
        "\n",
        "y = 1 / (2 + 3**2) + 4/5 * 6/7\n",
        "print(f\"1 / (2 + 3^2) + 4/5 * 6/7 = {y}\")\n",
        "\n",
        "y = 1 / 2 + 3**2 + 4/5 * 6/7\n",
        "print(f\"1 / 2 + 3^2 + 4/5 * 6/7 = {y}\")\n"
      ]
    },
    {
      "cell_type": "markdown",
      "metadata": {},
      "source": [
        "### Mathematical Functions\n"
      ]
    },
    {
      "cell_type": "code",
      "execution_count": 9,
      "metadata": {},
      "outputs": [
        {
          "name": "stdout",
          "output_type": "stream",
          "text": [
            "Radians to Degrees: 57.2958\n",
            "Degrees to Radians: 1.5708\n",
            "cos(π/4): 0.7071\n",
            "sin(π/4): 0.7071\n",
            "tan(π/4): 1.0000\n",
            "arccos(0.5): 1.0472\n",
            "arcsin(0.5): 0.5236\n",
            "arctan(1): 0.7854\n",
            "exp(1): 2.7183\n",
            "sqrt(16): 4.0000\n",
            "log(e): 1.0000\n",
            "log10(100): 2.0000\n"
          ]
        }
      ],
      "source": [
        "# Trigonometric and mathematical functions\n",
        "x = np.pi / 4  # 45 degrees in radians\n",
        "\n",
        "print(f\"Radians to Degrees: {np.rad2deg(1):.4f}\")\n",
        "print(f\"Degrees to Radians: {np.deg2rad(90):.4f}\")\n",
        "print(f\"cos(π/4): {np.cos(x):.4f}\")\n",
        "print(f\"sin(π/4): {np.sin(x):.4f}\")\n",
        "print(f\"tan(π/4): {np.tan(x):.4f}\")\n",
        "print(f\"arccos(0.5): {np.arccos(0.5):.4f}\")\n",
        "print(f\"arcsin(0.5): {np.arcsin(0.5):.4f}\")\n",
        "print(f\"arctan(1): {np.arctan(1):.4f}\")\n",
        "print(f\"exp(1): {np.exp(1):.4f}\")\n",
        "print(f\"sqrt(16): {np.sqrt(16):.4f}\")\n",
        "print(f\"log(e): {np.log(np.e):.4f}\")\n",
        "print(f\"log10(100): {np.log10(100):.4f}\")\n"
      ]
    },
    {
      "cell_type": "code",
      "execution_count": 10,
      "metadata": {},
      "outputs": [
        {
          "name": "stdout",
          "output_type": "stream",
          "text": [
            "Absolute value of -20: 20\n",
            "Sign of -20: -1\n"
          ]
        }
      ],
      "source": [
        "# Absolute value and sign function\n",
        "x = -20\n",
        "abs_val = np.abs(x)\n",
        "sign_val = np.sign(x)\n",
        "\n",
        "print(f\"Absolute value of {x}: {abs_val}\")\n",
        "print(f\"Sign of {x}: {sign_val}\")\n"
      ]
    },
    {
      "cell_type": "code",
      "execution_count": 11,
      "metadata": {},
      "outputs": [
        {
          "name": "stdout",
          "output_type": "stream",
          "text": [
            "Array: [  1.    2.    3.    7.  465.   -2.    7.6]\n",
            "Maximum value: 465.0\n",
            "Minimum value: -2.0\n"
          ]
        }
      ],
      "source": [
        "# Array operations: max and min\n",
        "x = np.array([1, 2, 3, 7, 465, -2, 7.6])\n",
        "max_val = np.max(x)\n",
        "min_val = np.min(x)\n",
        "\n",
        "print(f\"Array: {x}\")\n",
        "print(f\"Maximum value: {max_val}\")\n",
        "print(f\"Minimum value: {min_val}\")\n"
      ]
    },
    {
      "cell_type": "code",
      "execution_count": 12,
      "metadata": {},
      "outputs": [
        {
          "name": "stdout",
          "output_type": "stream",
          "text": [
            "Original value: 45.3\n",
            "Ceiling (round towards +∞): 46.0\n",
            "Floor (round towards -∞): 45.0\n",
            "Round to nearest integer: 45.0\n"
          ]
        }
      ],
      "source": [
        "# Rounding functions\n",
        "x = 45.3\n",
        "ceil_val = np.ceil(x)\n",
        "floor_val = np.floor(x)\n",
        "round_val = np.round(x)\n",
        "\n",
        "print(f\"Original value: {x}\")\n",
        "print(f\"Ceiling (round towards +∞): {ceil_val}\")\n",
        "print(f\"Floor (round towards -∞): {floor_val}\")\n",
        "print(f\"Round to nearest integer: {round_val}\")\n"
      ]
    },
    {
      "cell_type": "markdown",
      "metadata": {},
      "source": [
        "### Complex Numbers\n",
        "\n",
        "**Note:** In Python, use `1j` for the imaginary unit (not `i`).\n"
      ]
    },
    {
      "cell_type": "code",
      "execution_count": 13,
      "metadata": {},
      "outputs": [
        {
          "name": "stdout",
          "output_type": "stream",
          "text": [
            "Complex number: (2+7j)\n",
            "Real part: 2.0\n",
            "Imaginary part: 7.0\n",
            "Phase angle: 1.2925 radians\n",
            "Complex conjugate: (2-7j)\n"
          ]
        }
      ],
      "source": [
        "# Complex number operations\n",
        "x = 2 + 7j\n",
        "\n",
        "print(f\"Complex number: {x}\")\n",
        "print(f\"Real part: {x.real}\")\n",
        "print(f\"Imaginary part: {x.imag}\")\n",
        "print(f\"Phase angle: {np.angle(x):.4f} radians\")\n",
        "print(f\"Complex conjugate: {np.conj(x)}\")\n"
      ]
    },
    {
      "cell_type": "markdown",
      "metadata": {},
      "source": [
        "### Arrays and Matrices\n",
        "\n",
        "**Important:** Python uses 0-based indexing (unlike MATLAB's 1-based indexing).\n"
      ]
    },
    {
      "cell_type": "code",
      "execution_count": 14,
      "metadata": {},
      "outputs": [
        {
          "name": "stdout",
          "output_type": "stream",
          "text": [
            "Matrix A:\n",
            "[[1 2 3]\n",
            " [4 5 6]\n",
            " [7 8 9]]\n",
            "\n",
            "Element at row 2, column 1 (0-indexed): A[1, 0] = 4\n",
            "\n",
            "After setting A[2, 2] = 0:\n",
            "[[1 2 3]\n",
            " [4 5 6]\n",
            " [7 8 0]]\n"
          ]
        }
      ],
      "source": [
        "# Creating and accessing matrices\n",
        "A = np.array([[1, 2, 3],\n",
        "              [4, 5, 6],\n",
        "              [7, 8, 9]])\n",
        "\n",
        "print(\"Matrix A:\")\n",
        "print(A)\n",
        "print(f\"\\nElement at row 2, column 1 (0-indexed): A[1, 0] = {A[1, 0]}\")\n",
        "\n",
        "# Modify an element\n",
        "A[2, 2] = 0\n",
        "print(f\"\\nAfter setting A[2, 2] = 0:\")\n",
        "print(A)\n"
      ]
    },
    {
      "cell_type": "code",
      "execution_count": 15,
      "metadata": {},
      "outputs": [
        {
          "name": "stdout",
          "output_type": "stream",
          "text": [
            "eye(2, 3):\n",
            "[[1. 0. 0.]\n",
            " [0. 1. 0.]]\n",
            "\n",
            "eye(3):\n",
            "[[1. 0. 0.]\n",
            " [0. 1. 0.]\n",
            " [0. 0. 1.]]\n",
            "\n",
            "zeros(2, 3):\n",
            "[[0. 0. 0.]\n",
            " [0. 0. 0.]]\n",
            "\n",
            "ones(2, 3):\n",
            "[[1. 1. 1.]\n",
            " [1. 1. 1.]]\n",
            "\n",
            "Diagonal of A:\n",
            "[1 5 0]\n",
            "\n",
            "Random matrix (2, 3):\n",
            "[[0.5488135  0.71518937 0.60276338]\n",
            " [0.54488318 0.4236548  0.64589411]]\n"
          ]
        }
      ],
      "source": [
        "# Special matrix creation functions\n",
        "m, n = 2, 3\n",
        "\n",
        "eye1 = np.eye(m, n)  # m-by-n matrix with 1 on the main diagonal\n",
        "eye2 = np.eye(n)     # n-by-n identity matrix\n",
        "zeros_matrix = np.zeros((m, n))  # m-by-n matrix of zeros\n",
        "ones_matrix = np.ones((m, n))    # m-by-n matrix of ones\n",
        "diag_vals = np.diag(A)           # Extract diagonal of matrix A\n",
        "rand_matrix = np.random.rand(m, n)  # m-by-n matrix of random numbers\n",
        "\n",
        "print(f\"eye({m}, {n}):\")\n",
        "print(eye1)\n",
        "print(f\"\\neye({n}):\")\n",
        "print(eye2)\n",
        "print(f\"\\nzeros({m}, {n}):\")\n",
        "print(zeros_matrix)\n",
        "print(f\"\\nones({m}, {n}):\")\n",
        "print(ones_matrix)\n",
        "print(f\"\\nDiagonal of A:\")\n",
        "print(diag_vals)\n",
        "print(f\"\\nRandom matrix ({m}, {n}):\")\n",
        "print(rand_matrix)\n"
      ]
    },
    {
      "cell_type": "markdown",
      "metadata": {},
      "source": [
        "## Section 1.1: Vector and Matrix Operations\n",
        "\n",
        "### Concept Overview\n",
        "\n",
        "Matrix operations form the foundation of state-space control theory. Understanding element-wise operations, matrix multiplication, and basic matrix properties is essential for analyzing linear systems.\n"
      ]
    },
    {
      "cell_type": "code",
      "execution_count": 16,
      "metadata": {},
      "outputs": [
        {
          "name": "stdout",
          "output_type": "stream",
          "text": [
            "Matrix A:\n",
            "[[ 1  2  3]\n",
            " [ 4  5  6]\n",
            " [ 7  8 10]]\n",
            "\n",
            "Matrix B:\n",
            "[[2 1 0]\n",
            " [1 3 1]\n",
            " [0 1 2]]\n",
            "\n",
            "Column vector v:\n",
            "[[1]\n",
            " [2]\n",
            " [3]]\n"
          ]
        }
      ],
      "source": [
        "# Create sample matrices\n",
        "A = np.array([[1, 2, 3],\n",
        "              [4, 5, 6],\n",
        "              [7, 8, 10]])\n",
        "\n",
        "print(\"Matrix A:\")\n",
        "print(A)\n",
        "\n",
        "B = np.array([[2, 1, 0],\n",
        "              [1, 3, 1],\n",
        "              [0, 1, 2]])\n",
        "\n",
        "print(\"\\nMatrix B:\")\n",
        "print(B)\n",
        "\n",
        "v = np.array([[1], [2], [3]])  # Column vector\n",
        "print(\"\\nColumn vector v:\")\n",
        "print(v)\n"
      ]
    },
    {
      "cell_type": "markdown",
      "metadata": {},
      "source": [
        "### Matrix Addition\n"
      ]
    },
    {
      "cell_type": "code",
      "execution_count": 17,
      "metadata": {},
      "outputs": [
        {
          "name": "stdout",
          "output_type": "stream",
          "text": [
            "A + B =\n",
            "[[ 3  3  3]\n",
            " [ 5  8  7]\n",
            " [ 7  9 12]]\n"
          ]
        }
      ],
      "source": [
        "# Matrix addition\n",
        "C_add = A + B\n",
        "\n",
        "print(\"A + B =\")\n",
        "print(C_add)\n"
      ]
    },
    {
      "cell_type": "markdown",
      "metadata": {},
      "source": [
        "### Matrix Multiplication\n",
        "\n",
        "**Python 3.5+:** Use the `@` operator for matrix multiplication (more readable than `np.dot()`).\n"
      ]
    },
    {
      "cell_type": "code",
      "execution_count": 18,
      "metadata": {},
      "outputs": [
        {
          "name": "stdout",
          "output_type": "stream",
          "text": [
            "A @ B =\n",
            "[[ 4 10  8]\n",
            " [13 25 17]\n",
            " [22 41 28]]\n"
          ]
        }
      ],
      "source": [
        "# Matrix multiplication\n",
        "C_mult = A @ B  # Python 3.5+ operator\n",
        "# Alternatively: C_mult = np.dot(A, B)\n",
        "\n",
        "print(\"A @ B =\")\n",
        "print(C_mult)\n"
      ]
    },
    {
      "cell_type": "markdown",
      "metadata": {},
      "source": [
        "### Element-wise Operations\n"
      ]
    },
    {
      "cell_type": "code",
      "execution_count": 19,
      "metadata": {},
      "outputs": [
        {
          "name": "stdout",
          "output_type": "stream",
          "text": [
            "A * B (element-wise) =\n",
            "[[ 2  2  0]\n",
            " [ 4 15  6]\n",
            " [ 0  8 20]]\n"
          ]
        }
      ],
      "source": [
        "# Element-wise multiplication\n",
        "C_elem = A * B  # In NumPy, * is element-wise by default\n",
        "\n",
        "print(\"A * B (element-wise) =\")\n",
        "print(C_elem)\n"
      ]
    },
    {
      "cell_type": "code",
      "execution_count": 20,
      "metadata": {},
      "outputs": [
        {
          "name": "stdout",
          "output_type": "stream",
          "text": [
            "A^2 (element-wise power) =\n",
            "[[  1   4   9]\n",
            " [ 16  25  36]\n",
            " [ 49  64 100]]\n"
          ]
        }
      ],
      "source": [
        "# Element-wise power\n",
        "C_power = A**2\n",
        "\n",
        "print(\"A^2 (element-wise power) =\")\n",
        "print(C_power)\n"
      ]
    },
    {
      "cell_type": "markdown",
      "metadata": {},
      "source": []
    },
    {
      "cell_type": "code",
      "execution_count": 21,
      "metadata": {},
      "outputs": [
        {
          "name": "stdout",
          "output_type": "stream",
          "text": [
            "A transpose (A.T) =\n",
            "[[ 1  4  7]\n",
            " [ 2  5  8]\n",
            " [ 3  6 10]]\n",
            "\n",
            "For real matrices, A.T == A.conj().T\n"
          ]
        }
      ],
      "source": [
        "# Transpose operations\n",
        "A_transpose = A.T  # Non-conjugate transpose\n",
        "A_hermitian = A.conj().T  # Conjugate transpose (for real matrices, same as .T)\n",
        "\n",
        "print(\"A transpose (A.T) =\")\n",
        "print(A_transpose)\n",
        "print(\"\\nFor real matrices, A.T == A.conj().T\")\n"
      ]
    },
    {
      "cell_type": "markdown",
      "metadata": {},
      "source": [
        "### Matrix Concatenation\n"
      ]
    },
    {
      "cell_type": "code",
      "execution_count": 22,
      "metadata": {},
      "outputs": [
        {
          "name": "stdout",
          "output_type": "stream",
          "text": [
            "Horizontal concatenation [A, B]:\n",
            "[[ 1  2  3  2  1  0]\n",
            " [ 4  5  6  1  3  1]\n",
            " [ 7  8 10  0  1  2]]\n",
            "Shape: (3, 6)\n",
            "\n",
            "Vertical concatenation [A; B]:\n",
            "[[ 1  2  3]\n",
            " [ 4  5  6]\n",
            " [ 7  8 10]\n",
            " [ 2  1  0]\n",
            " [ 1  3  1]\n",
            " [ 0  1  2]]\n",
            "Shape: (6, 3)\n"
          ]
        }
      ],
      "source": [
        "# Matrix concatenation\n",
        "H_concat = np.hstack([A, B])  # Horizontal concatenation\n",
        "V_concat = np.vstack([A, B])  # Vertical concatenation\n",
        "\n",
        "print(\"Horizontal concatenation [A, B]:\")\n",
        "print(H_concat)\n",
        "print(f\"Shape: {H_concat.shape}\")\n",
        "\n",
        "print(\"\\nVertical concatenation [A; B]:\")\n",
        "print(V_concat)\n",
        "print(f\"Shape: {V_concat.shape}\")\n"
      ]
    },
    {
      "cell_type": "markdown",
      "metadata": {},
      "source": [
        "## Section 1.2: Matrix Properties and Functions\n",
        "\n",
        "### Mathematical Background\n",
        "\n",
        "Key matrix properties:\n",
        "- **Determinant:** `det(A)` - nonzero for invertible matrices\n",
        "- **Rank:** number of linearly independent rows/columns\n",
        "- **Trace:** sum of diagonal elements, $\\text{tr}(A) = \\sum \\lambda_i$ (sum of eigenvalues)\n",
        "- **Inverse:** $A^{-1}$ exists if $\\det(A) \\neq 0$\n"
      ]
    },
    {
      "cell_type": "code",
      "execution_count": 23,
      "metadata": {},
      "outputs": [
        {
          "name": "stdout",
          "output_type": "stream",
          "text": [
            "Determinant of A: -3.0000\n"
          ]
        }
      ],
      "source": [
        "# Matrix properties\n",
        "det_A = np.linalg.det(A)\n",
        "print(f\"Determinant of A: {det_A:.4f}\")\n"
      ]
    },
    {
      "cell_type": "code",
      "execution_count": 24,
      "metadata": {},
      "outputs": [
        {
          "name": "stdout",
          "output_type": "stream",
          "text": [
            "Rank of A: 3 (size 3x3)\n"
          ]
        }
      ],
      "source": [
        "# Rank\n",
        "rank_A = np.linalg.matrix_rank(A)\n",
        "print(f\"Rank of A: {rank_A} (size {A.shape[0]}x{A.shape[1]})\")\n"
      ]
    },
    {
      "cell_type": "code",
      "execution_count": 25,
      "metadata": {},
      "outputs": [
        {
          "name": "stdout",
          "output_type": "stream",
          "text": [
            "Trace of A: 16.0000\n"
          ]
        }
      ],
      "source": [
        "# Trace (sum of diagonal elements)\n",
        "trace_A = np.trace(A)\n",
        "print(f\"Trace of A: {trace_A:.4f}\")\n"
      ]
    },
    {
      "cell_type": "code",
      "execution_count": 26,
      "metadata": {},
      "outputs": [
        {
          "name": "stdout",
          "output_type": "stream",
          "text": [
            "Inverse of A:\n",
            "[[-0.66666667 -1.33333333  1.        ]\n",
            " [-0.66666667  3.66666667 -2.        ]\n",
            " [ 1.         -2.          1.        ]]\n",
            "\n",
            "A @ inv(A) (should be identity):\n",
            "[[1.00000000e+00 0.00000000e+00 1.11022302e-16]\n",
            " [0.00000000e+00 1.00000000e+00 2.22044605e-16]\n",
            " [8.88178420e-16 0.00000000e+00 1.00000000e+00]]\n"
          ]
        }
      ],
      "source": [
        "# Inverse (if exists)\n",
        "if det_A != 0:\n",
        "    A_inv = np.linalg.inv(A)\n",
        "    print(\"Inverse of A:\")\n",
        "    print(A_inv)\n",
        "    \n",
        "    # Verify A @ inv(A) = I\n",
        "    identity_check = A @ A_inv\n",
        "    print(\"\\nA @ inv(A) (should be identity):\")\n",
        "    print(identity_check)\n",
        "else:\n",
        "    print(\"Matrix A is singular (not invertible)\")\n"
      ]
    },
    {
      "cell_type": "markdown",
      "metadata": {},
      "source": [
        "### Condition Number\n",
        "\n",
        "A condition number for a matrix measures how sensitive the solution of a system of linear equations is to errors in the data. \n",
        "\n",
        "The 2-norm condition number is:\n",
        "$$\\kappa(A) = \\|A\\| \\|A^{-1}\\|$$\n",
        "\n",
        "A large condition number indicates that a small change in the coefficient matrix $A$ can lead to large changes in the solution. The extreme case is when $A$ is singular (infinite condition number).\n"
      ]
    },
    {
      "cell_type": "code",
      "execution_count": 56,
      "metadata": {},
      "outputs": [
        {
          "name": "stdout",
          "output_type": "stream",
          "text": [
            "Condition number of A: 88.4483\n",
            "(Higher values indicate ill-conditioning)\n"
          ]
        }
      ],
      "source": [
        "# Condition number (measures sensitivity to perturbations)\n",
        "cond_A = np.linalg.cond(A)\n",
        "print(f\"Condition number of A: {cond_A:.4f}\")\n",
        "print(\"(Higher values indicate ill-conditioning)\")\n"
      ]
    },
    {
      "cell_type": "markdown",
      "metadata": {},
      "source": [
        "## Section 1.3: Matrix Norms\n",
        "\n",
        "### Concept Overview\n",
        "\n",
        "Matrix norms measure the \"size\" of a matrix and are crucial for:\n",
        "- Stability analysis\n",
        "- Error bounds in numerical computations\n",
        "- Convergence analysis\n",
        "\n",
        "**Common Norms:**\n",
        "- **1-norm:** maximum absolute column sum\n",
        "- **2-norm (spectral):** largest singular value\n",
        "- **∞-norm:** maximum absolute row sum\n",
        "- **Frobenius norm:** $\\sqrt{\\sum_{i,j} |a_{ij}|^2}$\n"
      ]
    },
    {
      "cell_type": "code",
      "execution_count": 28,
      "metadata": {},
      "outputs": [
        {
          "name": "stdout",
          "output_type": "stream",
          "text": [
            "Complex matrix A:\n"
          ]
        }
      ],
      "source": [
        "# Create a test matrix with complex entries\n",
        "A_complex = np.array([[1-2j, 2-1j, 5],\n",
        "                       [7, 5+4j, 3],\n",
        "                       [3, 8, 9+1j]])\n",
        "\n",
        "print(\"Complex matrix A:\")\n"
      ]
    },
    {
      "cell_type": "code",
      "execution_count": 29,
      "metadata": {},
      "outputs": [
        {
          "name": "stdout",
          "output_type": "stream",
          "text": [
            "1-norm (max column sum): 17.0554\n",
            "2-norm (spectral): 15.8431\n",
            "∞-norm (max row sum): 20.0554\n",
            "Frobenius norm: 17.0000\n"
          ]
        }
      ],
      "source": [
        "# Different norm types\n",
        "norm_1 = np.linalg.norm(A_complex, 1)  # 1-norm (max column sum)\n",
        "norm_2 = np.linalg.norm(A_complex, 2)  # 2-norm (spectral/largest singular value)\n",
        "norm_inf = np.linalg.norm(A_complex, np.inf)  # inf-norm (max row sum)\n",
        "norm_fro = np.linalg.norm(A_complex, 'fro')  # Frobenius norm\n",
        "\n",
        "print(f\"1-norm (max column sum): {norm_1:.4f}\")\n",
        "print(f\"2-norm (spectral): {norm_2:.4f}\")\n",
        "print(f\"∞-norm (max row sum): {norm_inf:.4f}\")\n",
        "print(f\"Frobenius norm: {norm_fro:.4f}\")\n"
      ]
    },
    {
      "cell_type": "markdown",
      "metadata": {},
      "source": [
        "## Section 1.5: Linear Equations, Null Space, and Orthogonality\n",
        "\n",
        "### Mathematical Background\n",
        "\n",
        "For system $Ax = b$:\n",
        "- **Null space** $N(A)$: all vectors $x$ where $Ax = 0$\n",
        "- **Range/Column space** $R(A)$: all possible outputs $Ax$\n",
        "- **Orthogonal complement:** vectors perpendicular to a subspace\n",
        "\n",
        "**Key Property:** $\\text{rank}(A) + \\dim(\\text{null}(A)) = n$ (number of columns)\n"
      ]
    },
    {
      "cell_type": "code",
      "execution_count": 30,
      "metadata": {},
      "outputs": [
        {
          "name": "stdout",
          "output_type": "stream",
          "text": [
            "Rank-deficient matrix A:\n",
            "[[ 1.   2.   3. ]\n",
            " [ 2.   3.   4. ]\n",
            " [ 4.   5.   6. ]\n",
            " [25.  34.5 44. ]]\n",
            "\n",
            "Rank: 2, Columns: 3\n"
          ]
        }
      ],
      "source": [
        "# Create a rank-deficient matrix\n",
        "A_rank_def = np.array([[1, 2, 3],\n",
        "                        [2, 3, 4],\n",
        "                        [4, 5, 6],\n",
        "                        [25, 34.5, 44]])\n",
        "\n",
        "print(\"Rank-deficient matrix A:\")\n",
        "print(A_rank_def)\n",
        "print(f\"\\nRank: {np.linalg.matrix_rank(A_rank_def)}, Columns: {A_rank_def.shape[1]}\")\n"
      ]
    },
    {
      "cell_type": "code",
      "execution_count": 31,
      "metadata": {},
      "outputs": [
        {
          "name": "stdout",
          "output_type": "stream",
          "text": [
            "Null space basis Z:\n",
            "[[ 0.40824829]\n",
            " [-0.81649658]\n",
            " [ 0.40824829]]\n",
            "Shape of null space basis: (3, 1)\n"
          ]
        }
      ],
      "source": [
        "# Null space basis (should satisfy A @ Z ≈ 0)\n",
        "Z = la.null_space(A_rank_def)\n",
        "\n",
        "print(\"Null space basis Z:\")\n",
        "print(Z)\n",
        "print(f\"Shape of null space basis: {Z.shape}\")\n"
      ]
    },
    {
      "cell_type": "code",
      "execution_count": 32,
      "metadata": {},
      "outputs": [
        {
          "name": "stdout",
          "output_type": "stream",
          "text": [
            "A @ null_space(A) =\n",
            "[[ 3.66373598e-15]\n",
            " [ 2.22044605e-15]\n",
            " [-1.11022302e-15]\n",
            " [ 8.43769499e-15]]\n",
            "\n",
            "Norm of A @ null(A): 9.53e-15\n"
          ]
        }
      ],
      "source": [
        "# Verify (A @ null(A) should be ≈ 0)\n",
        "verification = A_rank_def @ Z\n",
        "print(\"A @ null_space(A) =\")\n",
        "print(verification)\n",
        "print(f\"\\nNorm of A @ null(A): {np.linalg.norm(verification):.2e}\")\n"
      ]
    },
    {
      "cell_type": "code",
      "execution_count": 33,
      "metadata": {},
      "outputs": [
        {
          "name": "stdout",
          "output_type": "stream",
          "text": [
            "Orthonormal basis for column space Q:\n",
            "[[-0.05930842 -0.73579392]\n",
            " [-0.08647227 -0.28600444]\n",
            " [-0.14079996  0.61357451]\n",
            " [-0.98446962 -0.01830533]]\n",
            "Shape: (4, 2)\n"
          ]
        }
      ],
      "source": [
        "# Orthonormal basis for column space\n",
        "Q = la.orth(A_rank_def)\n",
        "\n",
        "print(\"Orthonormal basis for column space Q:\")\n",
        "print(Q)\n",
        "print(f\"Shape: {Q.shape}\")\n"
      ]
    },
    {
      "cell_type": "code",
      "execution_count": 34,
      "metadata": {},
      "outputs": [
        {
          "name": "stdout",
          "output_type": "stream",
          "text": [
            "Q.T @ Q (should be identity of size 2x2):\n",
            "[[ 1.00000000e+00 -4.15765083e-17]\n",
            " [-4.15765083e-17  1.00000000e+00]]\n"
          ]
        }
      ],
      "source": [
        "# Verify orthonormality: Q.T @ Q should be identity\n",
        "orthogonality_check = Q.T @ Q\n",
        "print(f\"Q.T @ Q (should be identity of size {Q.shape[1]}x{Q.shape[1]}):\")\n",
        "print(orthogonality_check)\n"
      ]
    },
    {
      "cell_type": "code",
      "execution_count": 35,
      "metadata": {},
      "outputs": [
        {
          "name": "stdout",
          "output_type": "stream",
          "text": [
            "Vectors u and v:\n",
            "u = [5 8 7]\n",
            "v = [9 9 2]\n",
            "\n",
            "Dot product u·v = 131.0000\n",
            "Vectors are not orthogonal\n"
          ]
        }
      ],
      "source": [
        "# Dot product and orthogonality check\n",
        "u = np.random.randint(1, 11, size=3)  # Random integers from 1 to 10\n",
        "v = np.random.randint(1, 11, size=3)\n",
        "dot_uv = np.dot(u, v)\n",
        "\n",
        "print(f\"Vectors u and v:\")\n",
        "print(f\"u = {u}\")\n",
        "print(f\"v = {v}\")\n",
        "print(f\"\\nDot product u·v = {dot_uv:.4f}\")\n",
        "\n",
        "if abs(dot_uv) < 1e-10:\n",
        "    print(\"Vectors are orthogonal\")\n",
        "else:\n",
        "    print(\"Vectors are not orthogonal\")\n"
      ]
    },
    {
      "cell_type": "markdown",
      "metadata": {},
      "source": [
        "### Solving Linear Equations $Ax = b$\n"
      ]
    },
    {
      "cell_type": "code",
      "execution_count": 36,
      "metadata": {},
      "outputs": [],
      "source": [
        "A_solve = np.array([[2, 1, -1],\n",
        "                     [-3, -1, 2],\n",
        "                     [-2, 1, 2]])\n",
        "b_solve = np.array([8, -11, -3])\n"
      ]
    },
    {
      "cell_type": "code",
      "execution_count": 37,
      "metadata": {},
      "outputs": [
        {
          "name": "stdout",
          "output_type": "stream",
          "text": [
            "Solving Ax = b:\n",
            "\n",
            "A:\n",
            "[[ 2  1 -1]\n",
            " [-3 -1  2]\n",
            " [-2  1  2]]\n",
            "\n",
            "b: [  8 -11  -3]\n",
            "\n",
            "Solution x: [ 2.  3. -1.]\n"
          ]
        }
      ],
      "source": [
        "# Using numpy.linalg.solve (most efficient for square systems)\n",
        "x_solution = np.linalg.solve(A_solve, b_solve)\n",
        "\n",
        "print(\"Solving Ax = b:\")\n",
        "print(\"\\nA:\")\n",
        "print(A_solve)\n",
        "print(f\"\\nb: {b_solve}\")\n",
        "print(f\"\\nSolution x: {x_solution}\")\n"
      ]
    },
    {
      "cell_type": "code",
      "execution_count": 38,
      "metadata": {},
      "outputs": [
        {
          "name": "stdout",
          "output_type": "stream",
          "text": [
            "\n",
            "Residual ||Ax - b||: 1.99e-15\n"
          ]
        }
      ],
      "source": [
        "# Verify solution\n",
        "residual = np.linalg.norm(A_solve @ x_solution - b_solve)\n",
        "print(f\"\\nResidual ||Ax - b||: {residual:.2e}\")\n"
      ]
    },
    {
      "cell_type": "markdown",
      "metadata": {},
      "source": [
        "## Section 1.6: Eigenvalues and Eigenvectors\n",
        "\n",
        "### Mathematical Background\n",
        "\n",
        "For matrix $A$, eigenvalue $\\lambda$ and eigenvector $v$ satisfy:\n",
        "\n",
        "$$Av = \\lambda v$$\n",
        "\n",
        "**Key Properties:**\n",
        "- Characteristic equation: $\\det(A - \\lambda I) = 0$\n",
        "- Trace = sum of eigenvalues\n",
        "- Determinant = product of eigenvalues\n",
        "- Eigenvalues determine stability of dynamic systems\n"
      ]
    },
    {
      "cell_type": "code",
      "execution_count": 39,
      "metadata": {},
      "outputs": [
        {
          "name": "stdout",
          "output_type": "stream",
          "text": [
            "Matrix A:\n",
            "[[ 5 11  4]\n",
            " [12  8  5]\n",
            " [ 1  7  3]]\n"
          ]
        }
      ],
      "source": [
        "A_eig = np.array([[5, 11, 4],\n",
        "                   [12, 8, 5],\n",
        "                   [1, 7, 3]])\n",
        "\n",
        "print(\"Matrix A:\")\n",
        "print(A_eig)\n"
      ]
    },
    {
      "cell_type": "code",
      "execution_count": 40,
      "metadata": {},
      "outputs": [
        {
          "name": "stdout",
          "output_type": "stream",
          "text": [
            "\n",
            "Eigenvalues:\n",
            "[20.30729902 -5.18161863  0.87431961]\n",
            "\n",
            "Eigenvector matrix V:\n",
            "[[-0.60630077 -0.5284273  -0.24210371]\n",
            " [-0.72442823  0.67591757 -0.2500923 ]\n",
            " [-0.32802914 -0.513712    0.93746447]]\n"
          ]
        }
      ],
      "source": [
        "# Compute eigenvalues and eigenvectors\n",
        "eigenvalues, eigenvectors = np.linalg.eig(A_eig)\n",
        "\n",
        "print(\"\\nEigenvalues:\")\n",
        "print(eigenvalues)\n",
        "\n",
        "print(\"\\nEigenvector matrix V:\")\n",
        "print(eigenvectors)\n"
      ]
    },
    {
      "cell_type": "code",
      "execution_count": 41,
      "metadata": {},
      "outputs": [
        {
          "name": "stdout",
          "output_type": "stream",
          "text": [
            "Verification: max|A @ V - V @ D| = 3.55e-15\n"
          ]
        }
      ],
      "source": [
        "# Verify: A @ V should equal V @ diag(eigenvalues)\n",
        "D = np.diag(eigenvalues)\n",
        "verification_eig = A_eig @ eigenvectors\n",
        "expected_eig = eigenvectors @ D\n",
        "\n",
        "print(\"Verification: max|A @ V - V @ D| = \", end=\"\")\n",
        "print(f\"{np.max(np.abs(verification_eig - expected_eig)):.2e}\")\n"
      ]
    },
    {
      "cell_type": "code",
      "execution_count": 42,
      "metadata": {},
      "outputs": [
        {
          "name": "stdout",
          "output_type": "stream",
          "text": [
            "\n",
            "Characteristic polynomial:\n",
            "lambda**3 - 16*lambda**2 - 92*lambda + 92\n"
          ]
        }
      ],
      "source": [
        "# Characteristic polynomial using SymPy for symbolic computation\n",
        "A_sym = Matrix(A_eig)\n",
        "lambda_sym = symbols('lambda')\n",
        "char_poly = A_sym.charpoly(lambda_sym)\n",
        "\n",
        "print(\"\\nCharacteristic polynomial:\")\n",
        "print(char_poly.as_expr())\n"
      ]
    },
    {
      "cell_type": "code",
      "execution_count": 43,
      "metadata": {},
      "outputs": [
        {
          "name": "stdout",
          "output_type": "stream",
          "text": [
            "\n",
            "Trace of A: 16.0000\n",
            "Sum of eigenvalues: 16.0000\n",
            "\n",
            "Determinant of A: -92.0000\n",
            "Product of eigenvalues: -92.0000\n"
          ]
        }
      ],
      "source": [
        "# Properties\n",
        "trace_sum = np.sum(eigenvalues)\n",
        "det_prod = np.prod(eigenvalues)\n",
        "\n",
        "print(f\"\\nTrace of A: {np.trace(A_eig):.4f}\")\n",
        "print(f\"Sum of eigenvalues: {trace_sum:.4f}\")\n",
        "print(f\"\\nDeterminant of A: {np.linalg.det(A_eig):.4f}\")\n",
        "print(f\"Product of eigenvalues: {det_prod:.4f}\")\n"
      ]
    },
    {
      "cell_type": "markdown",
      "metadata": {},
      "source": [
        "## Section 1.7: Similarity Transformations\n",
        "\n",
        "### Concept Overview\n",
        "\n",
        "Two matrices $A$ and $B$ are similar if: $B = T^{-1} A T$\n",
        "\n",
        "Similar matrices have:\n",
        "- Same eigenvalues\n",
        "- Same determinant, trace, rank\n",
        "- Same characteristic polynomial\n",
        "\n",
        "**Application:** Transform systems to diagonal or canonical forms\n"
      ]
    },
    {
      "cell_type": "code",
      "execution_count": 44,
      "metadata": {},
      "outputs": [
        {
          "name": "stdout",
          "output_type": "stream",
          "text": [
            "Original matrix A:\n",
            "[[ 5 11  4]\n",
            " [12  8  5]\n",
            " [ 1  7  3]]\n",
            "\n",
            "Transformation matrix T (eigenvectors):\n",
            "[[-0.60630077 -0.5284273  -0.24210371]\n",
            " [-0.72442823  0.67591757 -0.2500923 ]\n",
            " [-0.32802914 -0.513712    0.93746447]]\n",
            "\n",
            "Transformed matrix T^(-1) @ A @ T (should be diagonal):\n",
            "[[ 2.03072990e+01  2.31744950e-15 -1.88923645e-15]\n",
            " [-4.38439596e-15 -5.18161863e+00 -7.98201475e-16]\n",
            " [ 2.17766521e-15 -3.57561567e-15  8.74319608e-01]]\n",
            "\n",
            "Eigenvalues of original: [-5.18161863  0.87431961 20.30729902]\n",
            "Eigenvalues of transformed: [-5.18161863  0.87431961 20.30729902]\n"
          ]
        }
      ],
      "source": [
        "# Using eigenvector matrix as transformation\n",
        "A_original = A_eig\n",
        "T = eigenvectors  # Eigenvector matrix\n",
        "\n",
        "if abs(np.linalg.det(T)) > 1e-10:\n",
        "    A_transformed = np.linalg.inv(T) @ A_original @ T\n",
        "    \n",
        "    print(\"Original matrix A:\")\n",
        "    print(A_original)\n",
        "    \n",
        "    print(\"\\nTransformation matrix T (eigenvectors):\")\n",
        "    print(T)\n",
        "    \n",
        "    print(\"\\nTransformed matrix T^(-1) @ A @ T (should be diagonal):\")\n",
        "    print(A_transformed)\n",
        "    \n",
        "    # Check eigenvalues are preserved\n",
        "    eig_original = np.sort(np.linalg.eigvals(A_original))\n",
        "    eig_transformed = np.sort(np.linalg.eigvals(A_transformed))\n",
        "    \n",
        "    print(f\"\\nEigenvalues of original: {eig_original}\")\n",
        "    print(f\"Eigenvalues of transformed: {eig_transformed}\")\n"
      ]
    },
    {
      "cell_type": "markdown",
      "metadata": {},
      "source": [
        "## Section 1.8: Jordan Normal Form\n",
        "\n",
        "### Mathematical Background\n",
        "\n",
        "Every square matrix is similar to its Jordan normal form:\n",
        "\n",
        "$$A = T J T^{-1}$$\n",
        "\n",
        "where $J$ is block-diagonal with Jordan blocks.\n",
        "\n",
        "**Jordan Block:** Upper triangular matrix with eigenvalue on diagonal\n",
        "\n",
        "**Note:** For SciPy versions < 1.11, Jordan form computation may not be available. We'll compute it using SymPy instead.\n"
      ]
    },
    {
      "cell_type": "code",
      "execution_count": 45,
      "metadata": {},
      "outputs": [
        {
          "name": "stdout",
          "output_type": "stream",
          "text": [
            "Matrix A:\n",
            "[[ 5 11  4]\n",
            " [12  8  5]\n",
            " [ 1  7  3]]\n"
          ]
        }
      ],
      "source": [
        "# Matrix with repeated eigenvalues\n",
        "A_jordan = np.array([[5, 11, 4],\n",
        "                      [12, 8, 5],\n",
        "                      [1, 7, 3]])\n",
        "\n",
        "print(\"Matrix A:\")\n",
        "print(A_jordan)\n"
      ]
    },
    {
      "cell_type": "code",
      "execution_count": 47,
      "metadata": {},
      "outputs": [
        {
          "ename": "KeyboardInterrupt",
          "evalue": "",
          "output_type": "error",
          "traceback": [
            "\u001b[31m---------------------------------------------------------------------------\u001b[39m",
            "\u001b[31mKeyboardInterrupt\u001b[39m                         Traceback (most recent call last)",
            "\u001b[36mCell\u001b[39m\u001b[36m \u001b[39m\u001b[32mIn[47]\u001b[39m\u001b[32m, line 3\u001b[39m\n\u001b[32m      1\u001b[39m \u001b[38;5;66;03m# Compute Jordan form using SymPy\u001b[39;00m\n\u001b[32m      2\u001b[39m A_sym_jordan = Matrix(A_jordan)\n\u001b[32m----> \u001b[39m\u001b[32m3\u001b[39m T_jordan, J = \u001b[43mA_sym_jordan\u001b[49m\u001b[43m.\u001b[49m\u001b[43mjordan_form\u001b[49m\u001b[43m(\u001b[49m\u001b[43m)\u001b[49m\n\u001b[32m      5\u001b[39m \u001b[38;5;28mprint\u001b[39m(\u001b[33m\"\u001b[39m\u001b[38;5;130;01m\\n\u001b[39;00m\u001b[33mJordan form J:\u001b[39m\u001b[33m\"\u001b[39m)\n\u001b[32m      6\u001b[39m \u001b[38;5;28mprint\u001b[39m(np.array(J).astype(np.float64))\n",
            "\u001b[36mFile \u001b[39m\u001b[32m~\\AppData\\Roaming\\Python\\Python313\\site-packages\\sympy\\matrices\\matrixbase.py:3371\u001b[39m, in \u001b[36mMatrixBase.jordan_form\u001b[39m\u001b[34m(self, calc_transform, **kwargs)\u001b[39m\n\u001b[32m   3370\u001b[39m \u001b[38;5;28;01mdef\u001b[39;00m\u001b[38;5;250m \u001b[39m\u001b[34mjordan_form\u001b[39m(\u001b[38;5;28mself\u001b[39m, calc_transform=\u001b[38;5;28;01mTrue\u001b[39;00m, **kwargs):\n\u001b[32m-> \u001b[39m\u001b[32m3371\u001b[39m     \u001b[38;5;28;01mreturn\u001b[39;00m \u001b[43m_jordan_form\u001b[49m\u001b[43m(\u001b[49m\u001b[38;5;28;43mself\u001b[39;49m\u001b[43m,\u001b[49m\u001b[43m \u001b[49m\u001b[43mcalc_transform\u001b[49m\u001b[43m=\u001b[49m\u001b[43mcalc_transform\u001b[49m\u001b[43m,\u001b[49m\u001b[43m \u001b[49m\u001b[43m*\u001b[49m\u001b[43m*\u001b[49m\u001b[43mkwargs\u001b[49m\u001b[43m)\u001b[49m\n",
            "\u001b[36mFile \u001b[39m\u001b[32m~\\AppData\\Roaming\\Python\\Python313\\site-packages\\sympy\\matrices\\eigen.py:1197\u001b[39m, in \u001b[36m_jordan_form\u001b[39m\u001b[34m(M, calc_transform, chop)\u001b[39m\n\u001b[32m   1194\u001b[39m \u001b[38;5;28;01mif\u001b[39;00m \u001b[38;5;129;01mnot\u001b[39;00m calc_transform:\n\u001b[32m   1195\u001b[39m     \u001b[38;5;28;01mreturn\u001b[39;00m restore_floats(jordan_mat)\n\u001b[32m-> \u001b[39m\u001b[32m1197\u001b[39m jordan_basis = [\u001b[43meig_mat\u001b[49m\u001b[43m(\u001b[49m\u001b[43meig\u001b[49m\u001b[43m,\u001b[49m\u001b[43m \u001b[49m\u001b[32;43m1\u001b[39;49m\u001b[43m)\u001b[49m\u001b[43m.\u001b[49m\u001b[43mnullspace\u001b[49m\u001b[43m(\u001b[49m\u001b[43m)\u001b[49m[\u001b[32m0\u001b[39m]\n\u001b[32m   1198\u001b[39m         \u001b[38;5;28;01mfor\u001b[39;00m eig \u001b[38;5;129;01min\u001b[39;00m blocks]\n\u001b[32m   1199\u001b[39m basis_mat    = mat.hstack(*jordan_basis)\n\u001b[32m   1201\u001b[39m \u001b[38;5;28;01mreturn\u001b[39;00m restore_floats(basis_mat, jordan_mat)\n",
            "\u001b[36mFile \u001b[39m\u001b[32m~\\AppData\\Roaming\\Python\\Python313\\site-packages\\sympy\\matrices\\matrixbase.py:3312\u001b[39m, in \u001b[36mMatrixBase.nullspace\u001b[39m\u001b[34m(self, simplify, iszerofunc)\u001b[39m\n\u001b[32m   3311\u001b[39m \u001b[38;5;28;01mdef\u001b[39;00m\u001b[38;5;250m \u001b[39m\u001b[34mnullspace\u001b[39m(\u001b[38;5;28mself\u001b[39m, simplify=\u001b[38;5;28;01mFalse\u001b[39;00m, iszerofunc=_iszero):\n\u001b[32m-> \u001b[39m\u001b[32m3312\u001b[39m     \u001b[38;5;28;01mreturn\u001b[39;00m \u001b[43m_nullspace\u001b[49m\u001b[43m(\u001b[49m\u001b[38;5;28;43mself\u001b[39;49m\u001b[43m,\u001b[49m\u001b[43m \u001b[49m\u001b[43msimplify\u001b[49m\u001b[43m=\u001b[49m\u001b[43msimplify\u001b[49m\u001b[43m,\u001b[49m\u001b[43m \u001b[49m\u001b[43miszerofunc\u001b[49m\u001b[43m=\u001b[49m\u001b[43miszerofunc\u001b[49m\u001b[43m)\u001b[49m\n",
            "\u001b[36mFile \u001b[39m\u001b[32m~\\AppData\\Roaming\\Python\\Python313\\site-packages\\sympy\\matrices\\subspaces.py:64\u001b[39m, in \u001b[36m_nullspace\u001b[39m\u001b[34m(M, simplify, iszerofunc)\u001b[39m\n\u001b[32m     38\u001b[39m \u001b[38;5;28;01mdef\u001b[39;00m\u001b[38;5;250m \u001b[39m\u001b[34m_nullspace\u001b[39m(M, simplify=\u001b[38;5;28;01mFalse\u001b[39;00m, iszerofunc=_iszero):\n\u001b[32m     39\u001b[39m \u001b[38;5;250m    \u001b[39m\u001b[33;03m\"\"\"Returns list of vectors (Matrix objects) that span nullspace of ``M``\u001b[39;00m\n\u001b[32m     40\u001b[39m \n\u001b[32m     41\u001b[39m \u001b[33;03m    Examples\u001b[39;00m\n\u001b[32m   (...)\u001b[39m\u001b[32m     61\u001b[39m \u001b[33;03m    rowspace\u001b[39;00m\n\u001b[32m     62\u001b[39m \u001b[33;03m    \"\"\"\u001b[39;00m\n\u001b[32m---> \u001b[39m\u001b[32m64\u001b[39m     reduced, pivots = \u001b[43mM\u001b[49m\u001b[43m.\u001b[49m\u001b[43mrref\u001b[49m\u001b[43m(\u001b[49m\u001b[43miszerofunc\u001b[49m\u001b[43m=\u001b[49m\u001b[43miszerofunc\u001b[49m\u001b[43m,\u001b[49m\u001b[43m \u001b[49m\u001b[43msimplify\u001b[49m\u001b[43m=\u001b[49m\u001b[43msimplify\u001b[49m\u001b[43m)\u001b[49m\n\u001b[32m     66\u001b[39m     free_vars = [i \u001b[38;5;28;01mfor\u001b[39;00m i \u001b[38;5;129;01min\u001b[39;00m \u001b[38;5;28mrange\u001b[39m(M.cols) \u001b[38;5;28;01mif\u001b[39;00m i \u001b[38;5;129;01mnot\u001b[39;00m \u001b[38;5;129;01min\u001b[39;00m pivots]\n\u001b[32m     67\u001b[39m     basis     = []\n",
            "\u001b[36mFile \u001b[39m\u001b[32m~\\AppData\\Roaming\\Python\\Python313\\site-packages\\sympy\\matrices\\matrixbase.py:3139\u001b[39m, in \u001b[36mMatrixBase.rref\u001b[39m\u001b[34m(self, iszerofunc, simplify, pivots, normalize_last)\u001b[39m\n\u001b[32m   3137\u001b[39m \u001b[38;5;28;01mdef\u001b[39;00m\u001b[38;5;250m \u001b[39m\u001b[34mrref\u001b[39m(\u001b[38;5;28mself\u001b[39m, iszerofunc=_iszero, simplify=\u001b[38;5;28;01mFalse\u001b[39;00m, pivots=\u001b[38;5;28;01mTrue\u001b[39;00m,\n\u001b[32m   3138\u001b[39m         normalize_last=\u001b[38;5;28;01mTrue\u001b[39;00m):\n\u001b[32m-> \u001b[39m\u001b[32m3139\u001b[39m     \u001b[38;5;28;01mreturn\u001b[39;00m \u001b[43m_rref\u001b[49m\u001b[43m(\u001b[49m\u001b[38;5;28;43mself\u001b[39;49m\u001b[43m,\u001b[49m\u001b[43m \u001b[49m\u001b[43miszerofunc\u001b[49m\u001b[43m=\u001b[49m\u001b[43miszerofunc\u001b[49m\u001b[43m,\u001b[49m\u001b[43m \u001b[49m\u001b[43msimplify\u001b[49m\u001b[43m=\u001b[49m\u001b[43msimplify\u001b[49m\u001b[43m,\u001b[49m\n\u001b[32m   3140\u001b[39m \u001b[43m        \u001b[49m\u001b[43mpivots\u001b[49m\u001b[43m=\u001b[49m\u001b[43mpivots\u001b[49m\u001b[43m,\u001b[49m\u001b[43m \u001b[49m\u001b[43mnormalize_last\u001b[49m\u001b[43m=\u001b[49m\u001b[43mnormalize_last\u001b[49m\u001b[43m)\u001b[49m\n",
            "\u001b[36mFile \u001b[39m\u001b[32m~\\AppData\\Roaming\\Python\\Python313\\site-packages\\sympy\\matrices\\reductions.py:381\u001b[39m, in \u001b[36m_rref\u001b[39m\u001b[34m(M, iszerofunc, simplify, pivots, normalize_last)\u001b[39m\n\u001b[32m    378\u001b[39m     \u001b[38;5;28;01melse\u001b[39;00m:\n\u001b[32m    379\u001b[39m         simpfunc = _simplify\n\u001b[32m--> \u001b[39m\u001b[32m381\u001b[39m     mat, pivot_cols, _ = \u001b[43m_row_reduce\u001b[49m\u001b[43m(\u001b[49m\u001b[43mM\u001b[49m\u001b[43m,\u001b[49m\u001b[43m \u001b[49m\u001b[43miszerofunc\u001b[49m\u001b[43m,\u001b[49m\u001b[43m \u001b[49m\u001b[43msimpfunc\u001b[49m\u001b[43m,\u001b[49m\n\u001b[32m    382\u001b[39m \u001b[43m            \u001b[49m\u001b[43mnormalize_last\u001b[49m\u001b[43m,\u001b[49m\u001b[43m \u001b[49m\u001b[43mnormalize\u001b[49m\u001b[43m=\u001b[49m\u001b[38;5;28;43;01mTrue\u001b[39;49;00m\u001b[43m,\u001b[49m\u001b[43m \u001b[49m\u001b[43mzero_above\u001b[49m\u001b[43m=\u001b[49m\u001b[38;5;28;43;01mTrue\u001b[39;49;00m\u001b[43m)\u001b[49m\n\u001b[32m    384\u001b[39m \u001b[38;5;28;01mif\u001b[39;00m pivots:\n\u001b[32m    385\u001b[39m     \u001b[38;5;28;01mreturn\u001b[39;00m mat, pivot_cols\n",
            "\u001b[36mFile \u001b[39m\u001b[32m~\\AppData\\Roaming\\Python\\Python313\\site-packages\\sympy\\matrices\\reductions.py:127\u001b[39m, in \u001b[36m_row_reduce\u001b[39m\u001b[34m(M, iszerofunc, simpfunc, normalize_last, normalize, zero_above)\u001b[39m\n\u001b[32m    124\u001b[39m \u001b[38;5;28;01mdef\u001b[39;00m\u001b[38;5;250m \u001b[39m\u001b[34m_row_reduce\u001b[39m(M, iszerofunc, simpfunc, normalize_last=\u001b[38;5;28;01mTrue\u001b[39;00m,\n\u001b[32m    125\u001b[39m                 normalize=\u001b[38;5;28;01mTrue\u001b[39;00m, zero_above=\u001b[38;5;28;01mTrue\u001b[39;00m):\n\u001b[32m--> \u001b[39m\u001b[32m127\u001b[39m     mat, pivot_cols, swaps = \u001b[43m_row_reduce_list\u001b[49m\u001b[43m(\u001b[49m\u001b[38;5;28;43mlist\u001b[39;49m\u001b[43m(\u001b[49m\u001b[43mM\u001b[49m\u001b[43m)\u001b[49m\u001b[43m,\u001b[49m\u001b[43m \u001b[49m\u001b[43mM\u001b[49m\u001b[43m.\u001b[49m\u001b[43mrows\u001b[49m\u001b[43m,\u001b[49m\u001b[43m \u001b[49m\u001b[43mM\u001b[49m\u001b[43m.\u001b[49m\u001b[43mcols\u001b[49m\u001b[43m,\u001b[49m\u001b[43m \u001b[49m\u001b[43mM\u001b[49m\u001b[43m.\u001b[49m\u001b[43mone\u001b[49m\u001b[43m,\u001b[49m\n\u001b[32m    128\u001b[39m \u001b[43m            \u001b[49m\u001b[43miszerofunc\u001b[49m\u001b[43m,\u001b[49m\u001b[43m \u001b[49m\u001b[43msimpfunc\u001b[49m\u001b[43m,\u001b[49m\u001b[43m \u001b[49m\u001b[43mnormalize_last\u001b[49m\u001b[43m=\u001b[49m\u001b[43mnormalize_last\u001b[49m\u001b[43m,\u001b[49m\n\u001b[32m    129\u001b[39m \u001b[43m            \u001b[49m\u001b[43mnormalize\u001b[49m\u001b[43m=\u001b[49m\u001b[43mnormalize\u001b[49m\u001b[43m,\u001b[49m\u001b[43m \u001b[49m\u001b[43mzero_above\u001b[49m\u001b[43m=\u001b[49m\u001b[43mzero_above\u001b[49m\u001b[43m)\u001b[49m\n\u001b[32m    131\u001b[39m     \u001b[38;5;28;01mreturn\u001b[39;00m M._new(M.rows, M.cols, mat), pivot_cols, swaps\n",
            "\u001b[36mFile \u001b[39m\u001b[32m~\\AppData\\Roaming\\Python\\Python313\\site-packages\\sympy\\matrices\\reductions.py:68\u001b[39m, in \u001b[36m_row_reduce_list\u001b[39m\u001b[34m(mat, rows, cols, one, iszerofunc, simpfunc, normalize_last, normalize, zero_above)\u001b[39m\n\u001b[32m     65\u001b[39m \u001b[38;5;66;03m# use a fraction free method to zero above and below each pivot\u001b[39;00m\n\u001b[32m     66\u001b[39m \u001b[38;5;28;01mwhile\u001b[39;00m piv_col < cols \u001b[38;5;129;01mand\u001b[39;00m piv_row < rows:\n\u001b[32m     67\u001b[39m     pivot_offset, pivot_val, \\\n\u001b[32m---> \u001b[39m\u001b[32m68\u001b[39m     assumed_nonzero, newly_determined = \u001b[43m_find_reasonable_pivot\u001b[49m\u001b[43m(\u001b[49m\n\u001b[32m     69\u001b[39m \u001b[43m            \u001b[49m\u001b[43mget_col\u001b[49m\u001b[43m(\u001b[49m\u001b[43mpiv_col\u001b[49m\u001b[43m)\u001b[49m\u001b[43m[\u001b[49m\u001b[43mpiv_row\u001b[49m\u001b[43m:\u001b[49m\u001b[43m]\u001b[49m\u001b[43m,\u001b[49m\u001b[43m \u001b[49m\u001b[43miszerofunc\u001b[49m\u001b[43m,\u001b[49m\u001b[43m \u001b[49m\u001b[43msimpfunc\u001b[49m\u001b[43m)\u001b[49m\n\u001b[32m     71\u001b[39m     \u001b[38;5;66;03m# _find_reasonable_pivot may have simplified some things\u001b[39;00m\n\u001b[32m     72\u001b[39m     \u001b[38;5;66;03m# in the process.  Let's not let them go to waste\u001b[39;00m\n\u001b[32m     73\u001b[39m     \u001b[38;5;28;01mfor\u001b[39;00m (offset, val) \u001b[38;5;129;01min\u001b[39;00m newly_determined:\n",
            "\u001b[36mFile \u001b[39m\u001b[32m~\\AppData\\Roaming\\Python\\Python313\\site-packages\\sympy\\matrices\\determinant.py:104\u001b[39m, in \u001b[36m_find_reasonable_pivot\u001b[39m\u001b[34m(col, iszerofunc, simpfunc)\u001b[39m\n\u001b[32m    102\u001b[39m \u001b[38;5;28;01mif\u001b[39;00m possible_zeros[i] \u001b[38;5;129;01mis\u001b[39;00m \u001b[38;5;129;01mnot\u001b[39;00m \u001b[38;5;28;01mNone\u001b[39;00m:\n\u001b[32m    103\u001b[39m     \u001b[38;5;28;01mcontinue\u001b[39;00m\n\u001b[32m--> \u001b[39m\u001b[32m104\u001b[39m \u001b[38;5;28;01mif\u001b[39;00m \u001b[43mx\u001b[49m\u001b[43m.\u001b[49m\u001b[43mequals\u001b[49m\u001b[43m(\u001b[49m\u001b[43mS\u001b[49m\u001b[43m.\u001b[49m\u001b[43mZero\u001b[49m\u001b[43m)\u001b[49m:\n\u001b[32m    105\u001b[39m     \u001b[38;5;66;03m# ``.iszero`` may return False with\u001b[39;00m\n\u001b[32m    106\u001b[39m     \u001b[38;5;66;03m# an implicit assumption (e.g., ``x.equals(0)``\u001b[39;00m\n\u001b[32m    107\u001b[39m     \u001b[38;5;66;03m# when ``x`` is a symbol), so only treat it\u001b[39;00m\n\u001b[32m    108\u001b[39m     \u001b[38;5;66;03m# as proved when ``.equals(0)`` returns True\u001b[39;00m\n\u001b[32m    109\u001b[39m     possible_zeros[i] = \u001b[38;5;28;01mTrue\u001b[39;00m\n\u001b[32m    110\u001b[39m     newly_determined.append((i, S.Zero))\n",
            "\u001b[36mFile \u001b[39m\u001b[32m~\\AppData\\Roaming\\Python\\Python313\\site-packages\\sympy\\core\\expr.py:797\u001b[39m, in \u001b[36mExpr.equals\u001b[39m\u001b[34m(self, other, failing_expression)\u001b[39m\n\u001b[32m    795\u001b[39m factors = diff.as_coeff_mul()[\u001b[32m1\u001b[39m]\n\u001b[32m    796\u001b[39m \u001b[38;5;28;01mif\u001b[39;00m \u001b[38;5;28mlen\u001b[39m(factors) > \u001b[32m1\u001b[39m:  \u001b[38;5;66;03m# avoid infinity recursion\u001b[39;00m\n\u001b[32m--> \u001b[39m\u001b[32m797\u001b[39m     fac_zero = [\u001b[43mfac\u001b[49m\u001b[43m.\u001b[49m\u001b[43mequals\u001b[49m\u001b[43m(\u001b[49m\u001b[32;43m0\u001b[39;49m\u001b[43m)\u001b[49m \u001b[38;5;28;01mfor\u001b[39;00m fac \u001b[38;5;129;01min\u001b[39;00m factors]\n\u001b[32m    798\u001b[39m     \u001b[38;5;28;01mif\u001b[39;00m \u001b[38;5;28;01mNone\u001b[39;00m \u001b[38;5;129;01mnot\u001b[39;00m \u001b[38;5;129;01min\u001b[39;00m fac_zero:  \u001b[38;5;66;03m# every part can be decided\u001b[39;00m\n\u001b[32m    799\u001b[39m         \u001b[38;5;28;01mreturn\u001b[39;00m \u001b[38;5;28many\u001b[39m(fac_zero)\n",
            "\u001b[36mFile \u001b[39m\u001b[32m~\\AppData\\Roaming\\Python\\Python313\\site-packages\\sympy\\core\\expr.py:878\u001b[39m, in \u001b[36mExpr.equals\u001b[39m\u001b[34m(self, other, failing_expression)\u001b[39m\n\u001b[32m    876\u001b[39m \u001b[38;5;28;01mif\u001b[39;00m \u001b[38;5;28;01mTrue\u001b[39;00m:  \u001b[38;5;66;03m# change True to condition that assures non-hang\u001b[39;00m\n\u001b[32m    877\u001b[39m     \u001b[38;5;28;01mtry\u001b[39;00m:\n\u001b[32m--> \u001b[39m\u001b[32m878\u001b[39m         mp = \u001b[43mminimal_polynomial\u001b[49m\u001b[43m(\u001b[49m\u001b[43mdiff\u001b[49m\u001b[43m)\u001b[49m\n\u001b[32m    879\u001b[39m         \u001b[38;5;28;01mif\u001b[39;00m mp.is_Symbol:\n\u001b[32m    880\u001b[39m             \u001b[38;5;28;01mreturn\u001b[39;00m \u001b[38;5;28;01mTrue\u001b[39;00m\n",
            "\u001b[36mFile \u001b[39m\u001b[32m~\\AppData\\Roaming\\Python\\Python313\\site-packages\\sympy\\polys\\numberfields\\minpoly.py:703\u001b[39m, in \u001b[36mminimal_polynomial\u001b[39m\u001b[34m(ex, x, compose, polys, domain)\u001b[39m\n\u001b[32m    699\u001b[39m     \u001b[38;5;28;01mraise\u001b[39;00m GeneratorsError(\u001b[33m\"\u001b[39m\u001b[33mthe variable \u001b[39m\u001b[38;5;132;01m%s\u001b[39;00m\u001b[33m is an element of the ground \u001b[39m\u001b[33m\"\u001b[39m\n\u001b[32m    700\u001b[39m                           \u001b[33m\"\u001b[39m\u001b[33mdomain \u001b[39m\u001b[38;5;132;01m%s\u001b[39;00m\u001b[33m\"\u001b[39m % (x, domain))\n\u001b[32m    702\u001b[39m \u001b[38;5;28;01mif\u001b[39;00m compose:\n\u001b[32m--> \u001b[39m\u001b[32m703\u001b[39m     result = \u001b[43m_minpoly_compose\u001b[49m\u001b[43m(\u001b[49m\u001b[43mex\u001b[49m\u001b[43m,\u001b[49m\u001b[43m \u001b[49m\u001b[43mx\u001b[49m\u001b[43m,\u001b[49m\u001b[43m \u001b[49m\u001b[43mdomain\u001b[49m\u001b[43m)\u001b[49m\n\u001b[32m    704\u001b[39m     result = result.primitive()[\u001b[32m1\u001b[39m]\n\u001b[32m    705\u001b[39m     c = result.coeff(x**degree(result, x))\n",
            "\u001b[36mFile \u001b[39m\u001b[32m~\\AppData\\Roaming\\Python\\Python313\\site-packages\\sympy\\polys\\numberfields\\minpoly.py:583\u001b[39m, in \u001b[36m_minpoly_compose\u001b[39m\u001b[34m(ex, x, dom)\u001b[39m\n\u001b[32m    580\u001b[39m             ex = ex1\n\u001b[32m    582\u001b[39m \u001b[38;5;28;01mif\u001b[39;00m ex.is_Add:\n\u001b[32m--> \u001b[39m\u001b[32m583\u001b[39m     res = \u001b[43m_minpoly_add\u001b[49m\u001b[43m(\u001b[49m\u001b[43mx\u001b[49m\u001b[43m,\u001b[49m\u001b[43m \u001b[49m\u001b[43mdom\u001b[49m\u001b[43m,\u001b[49m\u001b[43m \u001b[49m\u001b[43m*\u001b[49m\u001b[43mex\u001b[49m\u001b[43m.\u001b[49m\u001b[43margs\u001b[49m\u001b[43m)\u001b[49m\n\u001b[32m    584\u001b[39m \u001b[38;5;28;01melif\u001b[39;00m ex.is_Mul:\n\u001b[32m    585\u001b[39m     f = Factors(ex).factors\n",
            "\u001b[36mFile \u001b[39m\u001b[32m~\\AppData\\Roaming\\Python\\Python313\\site-packages\\sympy\\polys\\numberfields\\minpoly.py:374\u001b[39m, in \u001b[36m_minpoly_add\u001b[39m\u001b[34m(x, dom, *a)\u001b[39m\n\u001b[32m    372\u001b[39m p = a[\u001b[32m0\u001b[39m] + a[\u001b[32m1\u001b[39m]\n\u001b[32m    373\u001b[39m \u001b[38;5;28;01mfor\u001b[39;00m px \u001b[38;5;129;01min\u001b[39;00m a[\u001b[32m2\u001b[39m:]:\n\u001b[32m--> \u001b[39m\u001b[32m374\u001b[39m     mp = \u001b[43m_minpoly_op_algebraic_element\u001b[49m\u001b[43m(\u001b[49m\u001b[43mAdd\u001b[49m\u001b[43m,\u001b[49m\u001b[43m \u001b[49m\u001b[43mp\u001b[49m\u001b[43m,\u001b[49m\u001b[43m \u001b[49m\u001b[43mpx\u001b[49m\u001b[43m,\u001b[49m\u001b[43m \u001b[49m\u001b[43mx\u001b[49m\u001b[43m,\u001b[49m\u001b[43m \u001b[49m\u001b[43mdom\u001b[49m\u001b[43m,\u001b[49m\u001b[43m \u001b[49m\u001b[43mmp1\u001b[49m\u001b[43m=\u001b[49m\u001b[43mmp\u001b[49m\u001b[43m)\u001b[49m\n\u001b[32m    375\u001b[39m     p = p + px\n\u001b[32m    376\u001b[39m \u001b[38;5;28;01mreturn\u001b[39;00m mp\n",
            "\u001b[36mFile \u001b[39m\u001b[32m~\\AppData\\Roaming\\Python\\Python313\\site-packages\\sympy\\polys\\numberfields\\minpoly.py:288\u001b[39m, in \u001b[36m_minpoly_op_algebraic_element\u001b[39m\u001b[34m(op, ex1, ex2, x, dom, mp1, mp2)\u001b[39m\n\u001b[32m    286\u001b[39m r = Poly(r, x, domain=dom)\n\u001b[32m    287\u001b[39m _, factors = r.factor_list()\n\u001b[32m--> \u001b[39m\u001b[32m288\u001b[39m res = \u001b[43m_choose_factor\u001b[49m\u001b[43m(\u001b[49m\u001b[43mfactors\u001b[49m\u001b[43m,\u001b[49m\u001b[43m \u001b[49m\u001b[43mx\u001b[49m\u001b[43m,\u001b[49m\u001b[43m \u001b[49m\u001b[43mop\u001b[49m\u001b[43m(\u001b[49m\u001b[43mex1\u001b[49m\u001b[43m,\u001b[49m\u001b[43m \u001b[49m\u001b[43mex2\u001b[49m\u001b[43m)\u001b[49m\u001b[43m,\u001b[49m\u001b[43m \u001b[49m\u001b[43mdom\u001b[49m\u001b[43m)\u001b[49m\n\u001b[32m    289\u001b[39m \u001b[38;5;28;01mreturn\u001b[39;00m res.as_expr()\n",
            "\u001b[36mFile \u001b[39m\u001b[32m~\\AppData\\Roaming\\Python\\Python313\\site-packages\\sympy\\polys\\numberfields\\minpoly.py:59\u001b[39m, in \u001b[36m_choose_factor\u001b[39m\u001b[34m(factors, x, v, dom, prec, bound)\u001b[39m\n\u001b[32m     57\u001b[39m fe = [f.as_expr().xreplace({x:v}) \u001b[38;5;28;01mfor\u001b[39;00m f \u001b[38;5;129;01min\u001b[39;00m factors]\n\u001b[32m     58\u001b[39m \u001b[38;5;28;01mif\u001b[39;00m v.is_number:\n\u001b[32m---> \u001b[39m\u001b[32m59\u001b[39m     fe = [\u001b[43mf\u001b[49m\u001b[43m.\u001b[49m\u001b[43mn\u001b[49m\u001b[43m(\u001b[49m\u001b[43mprec\u001b[49m\u001b[43m)\u001b[49m \u001b[38;5;28;01mfor\u001b[39;00m f \u001b[38;5;129;01min\u001b[39;00m fe]\n\u001b[32m     61\u001b[39m \u001b[38;5;66;03m# assign integers [0, n) to symbols (if any)\u001b[39;00m\n\u001b[32m     62\u001b[39m \u001b[38;5;28;01mfor\u001b[39;00m n \u001b[38;5;129;01min\u001b[39;00m subsets(\u001b[38;5;28mrange\u001b[39m(bound), k=\u001b[38;5;28mlen\u001b[39m(symbols), repetition=\u001b[38;5;28;01mTrue\u001b[39;00m):\n",
            "\u001b[36mFile \u001b[39m\u001b[32m~\\AppData\\Roaming\\Python\\Python313\\site-packages\\sympy\\core\\evalf.py:1654\u001b[39m, in \u001b[36mEvalfMixin.evalf\u001b[39m\u001b[34m(self, n, subs, maxn, chop, strict, quad, verbose)\u001b[39m\n\u001b[32m   1652\u001b[39m     options[\u001b[33m'\u001b[39m\u001b[33mquad\u001b[39m\u001b[33m'\u001b[39m] = quad\n\u001b[32m   1653\u001b[39m \u001b[38;5;28;01mtry\u001b[39;00m:\n\u001b[32m-> \u001b[39m\u001b[32m1654\u001b[39m     result = \u001b[43mevalf\u001b[49m\u001b[43m(\u001b[49m\u001b[38;5;28;43mself\u001b[39;49m\u001b[43m,\u001b[49m\u001b[43m \u001b[49m\u001b[43mprec\u001b[49m\u001b[43m \u001b[49m\u001b[43m+\u001b[49m\u001b[43m \u001b[49m\u001b[32;43m4\u001b[39;49m\u001b[43m,\u001b[49m\u001b[43m \u001b[49m\u001b[43moptions\u001b[49m\u001b[43m)\u001b[49m\n\u001b[32m   1655\u001b[39m \u001b[38;5;28;01mexcept\u001b[39;00m \u001b[38;5;167;01mNotImplementedError\u001b[39;00m:\n\u001b[32m   1656\u001b[39m     \u001b[38;5;66;03m# Fall back to the ordinary evalf\u001b[39;00m\n\u001b[32m   1657\u001b[39m     \u001b[38;5;28;01mif\u001b[39;00m \u001b[38;5;28mhasattr\u001b[39m(\u001b[38;5;28mself\u001b[39m, \u001b[33m'\u001b[39m\u001b[33msubs\u001b[39m\u001b[33m'\u001b[39m) \u001b[38;5;129;01mand\u001b[39;00m subs \u001b[38;5;129;01mis\u001b[39;00m \u001b[38;5;129;01mnot\u001b[39;00m \u001b[38;5;28;01mNone\u001b[39;00m:  \u001b[38;5;66;03m# issue 20291\u001b[39;00m\n",
            "\u001b[36mFile \u001b[39m\u001b[32m~\\AppData\\Roaming\\Python\\Python313\\site-packages\\sympy\\core\\evalf.py:1489\u001b[39m, in \u001b[36mevalf\u001b[39m\u001b[34m(x, prec, options)\u001b[39m\n\u001b[32m   1487\u001b[39m \u001b[38;5;28;01mtry\u001b[39;00m:\n\u001b[32m   1488\u001b[39m     rf = evalf_table[\u001b[38;5;28mtype\u001b[39m(x)]\n\u001b[32m-> \u001b[39m\u001b[32m1489\u001b[39m     r = \u001b[43mrf\u001b[49m\u001b[43m(\u001b[49m\u001b[43mx\u001b[49m\u001b[43m,\u001b[49m\u001b[43m \u001b[49m\u001b[43mprec\u001b[49m\u001b[43m,\u001b[49m\u001b[43m \u001b[49m\u001b[43moptions\u001b[49m\u001b[43m)\u001b[49m\n\u001b[32m   1490\u001b[39m \u001b[38;5;28;01mexcept\u001b[39;00m \u001b[38;5;167;01mKeyError\u001b[39;00m:\n\u001b[32m   1491\u001b[39m     \u001b[38;5;66;03m# Fall back to ordinary evalf if possible\u001b[39;00m\n\u001b[32m   1492\u001b[39m     \u001b[38;5;28;01mif\u001b[39;00m \u001b[33m'\u001b[39m\u001b[33msubs\u001b[39m\u001b[33m'\u001b[39m \u001b[38;5;129;01min\u001b[39;00m options:\n",
            "\u001b[36mFile \u001b[39m\u001b[32m~\\AppData\\Roaming\\Python\\Python313\\site-packages\\sympy\\core\\evalf.py:602\u001b[39m, in \u001b[36mevalf_add\u001b[39m\u001b[34m(v, prec, options)\u001b[39m\n\u001b[32m    599\u001b[39m \u001b[38;5;28;01mwhile\u001b[39;00m \u001b[32m1\u001b[39m:\n\u001b[32m    600\u001b[39m     options[\u001b[33m'\u001b[39m\u001b[33mmaxprec\u001b[39m\u001b[33m'\u001b[39m] = \u001b[38;5;28mmin\u001b[39m(oldmaxprec, \u001b[32m2\u001b[39m*prec)\n\u001b[32m--> \u001b[39m\u001b[32m602\u001b[39m     terms = [\u001b[43mevalf\u001b[49m\u001b[43m(\u001b[49m\u001b[43marg\u001b[49m\u001b[43m,\u001b[49m\u001b[43m \u001b[49m\u001b[43mprec\u001b[49m\u001b[43m \u001b[49m\u001b[43m+\u001b[49m\u001b[43m \u001b[49m\u001b[32;43m10\u001b[39;49m\u001b[43m,\u001b[49m\u001b[43m \u001b[49m\u001b[43moptions\u001b[49m\u001b[43m)\u001b[49m \u001b[38;5;28;01mfor\u001b[39;00m arg \u001b[38;5;129;01min\u001b[39;00m v.args]\n\u001b[32m    603\u001b[39m     n = terms.count(S.ComplexInfinity)\n\u001b[32m    604\u001b[39m     \u001b[38;5;28;01mif\u001b[39;00m n >= \u001b[32m2\u001b[39m:\n",
            "\u001b[36mFile \u001b[39m\u001b[32m~\\AppData\\Roaming\\Python\\Python313\\site-packages\\sympy\\core\\evalf.py:1489\u001b[39m, in \u001b[36mevalf\u001b[39m\u001b[34m(x, prec, options)\u001b[39m\n\u001b[32m   1487\u001b[39m \u001b[38;5;28;01mtry\u001b[39;00m:\n\u001b[32m   1488\u001b[39m     rf = evalf_table[\u001b[38;5;28mtype\u001b[39m(x)]\n\u001b[32m-> \u001b[39m\u001b[32m1489\u001b[39m     r = \u001b[43mrf\u001b[49m\u001b[43m(\u001b[49m\u001b[43mx\u001b[49m\u001b[43m,\u001b[49m\u001b[43m \u001b[49m\u001b[43mprec\u001b[49m\u001b[43m,\u001b[49m\u001b[43m \u001b[49m\u001b[43moptions\u001b[49m\u001b[43m)\u001b[49m\n\u001b[32m   1490\u001b[39m \u001b[38;5;28;01mexcept\u001b[39;00m \u001b[38;5;167;01mKeyError\u001b[39;00m:\n\u001b[32m   1491\u001b[39m     \u001b[38;5;66;03m# Fall back to ordinary evalf if possible\u001b[39;00m\n\u001b[32m   1492\u001b[39m     \u001b[38;5;28;01mif\u001b[39;00m \u001b[33m'\u001b[39m\u001b[33msubs\u001b[39m\u001b[33m'\u001b[39m \u001b[38;5;129;01min\u001b[39;00m options:\n",
            "\u001b[36mFile \u001b[39m\u001b[32m~\\AppData\\Roaming\\Python\\Python313\\site-packages\\sympy\\core\\evalf.py:650\u001b[39m, in \u001b[36mevalf_mul\u001b[39m\u001b[34m(v, prec, options)\u001b[39m\n\u001b[32m    648\u001b[39m \u001b[38;5;28;01mfrom\u001b[39;00m\u001b[38;5;250m \u001b[39m\u001b[34;01m.\u001b[39;00m\u001b[34;01mnumbers\u001b[39;00m\u001b[38;5;250m \u001b[39m\u001b[38;5;28;01mimport\u001b[39;00m Float\n\u001b[32m    649\u001b[39m \u001b[38;5;28;01mfor\u001b[39;00m arg \u001b[38;5;129;01min\u001b[39;00m args:\n\u001b[32m--> \u001b[39m\u001b[32m650\u001b[39m     result = \u001b[43mevalf\u001b[49m\u001b[43m(\u001b[49m\u001b[43marg\u001b[49m\u001b[43m,\u001b[49m\u001b[43m \u001b[49m\u001b[43mprec\u001b[49m\u001b[43m,\u001b[49m\u001b[43m \u001b[49m\u001b[43moptions\u001b[49m\u001b[43m)\u001b[49m\n\u001b[32m    651\u001b[39m     \u001b[38;5;28;01mif\u001b[39;00m result \u001b[38;5;129;01mis\u001b[39;00m S.ComplexInfinity:\n\u001b[32m    652\u001b[39m         special.append(result)\n",
            "\u001b[36mFile \u001b[39m\u001b[32m~\\AppData\\Roaming\\Python\\Python313\\site-packages\\sympy\\core\\evalf.py:1489\u001b[39m, in \u001b[36mevalf\u001b[39m\u001b[34m(x, prec, options)\u001b[39m\n\u001b[32m   1487\u001b[39m \u001b[38;5;28;01mtry\u001b[39;00m:\n\u001b[32m   1488\u001b[39m     rf = evalf_table[\u001b[38;5;28mtype\u001b[39m(x)]\n\u001b[32m-> \u001b[39m\u001b[32m1489\u001b[39m     r = \u001b[43mrf\u001b[49m\u001b[43m(\u001b[49m\u001b[43mx\u001b[49m\u001b[43m,\u001b[49m\u001b[43m \u001b[49m\u001b[43mprec\u001b[49m\u001b[43m,\u001b[49m\u001b[43m \u001b[49m\u001b[43moptions\u001b[49m\u001b[43m)\u001b[49m\n\u001b[32m   1490\u001b[39m \u001b[38;5;28;01mexcept\u001b[39;00m \u001b[38;5;167;01mKeyError\u001b[39;00m:\n\u001b[32m   1491\u001b[39m     \u001b[38;5;66;03m# Fall back to ordinary evalf if possible\u001b[39;00m\n\u001b[32m   1492\u001b[39m     \u001b[38;5;28;01mif\u001b[39;00m \u001b[33m'\u001b[39m\u001b[33msubs\u001b[39m\u001b[33m'\u001b[39m \u001b[38;5;129;01min\u001b[39;00m options:\n",
            "\u001b[36mFile \u001b[39m\u001b[32m~\\AppData\\Roaming\\Python\\Python313\\site-packages\\sympy\\core\\evalf.py:778\u001b[39m, in \u001b[36mevalf_pow\u001b[39m\u001b[34m(v, prec, options)\u001b[39m\n\u001b[32m    775\u001b[39m \u001b[38;5;66;03m# Exponentiation by p magnifies relative error by |p|, so the\u001b[39;00m\n\u001b[32m    776\u001b[39m \u001b[38;5;66;03m# base must be evaluated with increased precision if p is large\u001b[39;00m\n\u001b[32m    777\u001b[39m prec += \u001b[38;5;28mint\u001b[39m(math.log2(\u001b[38;5;28mabs\u001b[39m(p)))\n\u001b[32m--> \u001b[39m\u001b[32m778\u001b[39m result = \u001b[43mevalf\u001b[49m\u001b[43m(\u001b[49m\u001b[43mbase\u001b[49m\u001b[43m,\u001b[49m\u001b[43m \u001b[49m\u001b[43mprec\u001b[49m\u001b[43m \u001b[49m\u001b[43m+\u001b[49m\u001b[43m \u001b[49m\u001b[32;43m5\u001b[39;49m\u001b[43m,\u001b[49m\u001b[43m \u001b[49m\u001b[43moptions\u001b[49m\u001b[43m)\u001b[49m\n\u001b[32m    779\u001b[39m \u001b[38;5;28;01mif\u001b[39;00m result \u001b[38;5;129;01mis\u001b[39;00m S.ComplexInfinity:\n\u001b[32m    780\u001b[39m     \u001b[38;5;28;01mif\u001b[39;00m p < \u001b[32m0\u001b[39m:\n",
            "\u001b[36mFile \u001b[39m\u001b[32m~\\AppData\\Roaming\\Python\\Python313\\site-packages\\sympy\\core\\evalf.py:1489\u001b[39m, in \u001b[36mevalf\u001b[39m\u001b[34m(x, prec, options)\u001b[39m\n\u001b[32m   1487\u001b[39m \u001b[38;5;28;01mtry\u001b[39;00m:\n\u001b[32m   1488\u001b[39m     rf = evalf_table[\u001b[38;5;28mtype\u001b[39m(x)]\n\u001b[32m-> \u001b[39m\u001b[32m1489\u001b[39m     r = \u001b[43mrf\u001b[49m\u001b[43m(\u001b[49m\u001b[43mx\u001b[49m\u001b[43m,\u001b[49m\u001b[43m \u001b[49m\u001b[43mprec\u001b[49m\u001b[43m,\u001b[49m\u001b[43m \u001b[49m\u001b[43moptions\u001b[49m\u001b[43m)\u001b[49m\n\u001b[32m   1490\u001b[39m \u001b[38;5;28;01mexcept\u001b[39;00m \u001b[38;5;167;01mKeyError\u001b[39;00m:\n\u001b[32m   1491\u001b[39m     \u001b[38;5;66;03m# Fall back to ordinary evalf if possible\u001b[39;00m\n\u001b[32m   1492\u001b[39m     \u001b[38;5;28;01mif\u001b[39;00m \u001b[33m'\u001b[39m\u001b[33msubs\u001b[39m\u001b[33m'\u001b[39m \u001b[38;5;129;01min\u001b[39;00m options:\n",
            "\u001b[36mFile \u001b[39m\u001b[32m~\\AppData\\Roaming\\Python\\Python313\\site-packages\\sympy\\core\\evalf.py:602\u001b[39m, in \u001b[36mevalf_add\u001b[39m\u001b[34m(v, prec, options)\u001b[39m\n\u001b[32m    599\u001b[39m \u001b[38;5;28;01mwhile\u001b[39;00m \u001b[32m1\u001b[39m:\n\u001b[32m    600\u001b[39m     options[\u001b[33m'\u001b[39m\u001b[33mmaxprec\u001b[39m\u001b[33m'\u001b[39m] = \u001b[38;5;28mmin\u001b[39m(oldmaxprec, \u001b[32m2\u001b[39m*prec)\n\u001b[32m--> \u001b[39m\u001b[32m602\u001b[39m     terms = [\u001b[43mevalf\u001b[49m\u001b[43m(\u001b[49m\u001b[43marg\u001b[49m\u001b[43m,\u001b[49m\u001b[43m \u001b[49m\u001b[43mprec\u001b[49m\u001b[43m \u001b[49m\u001b[43m+\u001b[49m\u001b[43m \u001b[49m\u001b[32;43m10\u001b[39;49m\u001b[43m,\u001b[49m\u001b[43m \u001b[49m\u001b[43moptions\u001b[49m\u001b[43m)\u001b[49m \u001b[38;5;28;01mfor\u001b[39;00m arg \u001b[38;5;129;01min\u001b[39;00m v.args]\n\u001b[32m    603\u001b[39m     n = terms.count(S.ComplexInfinity)\n\u001b[32m    604\u001b[39m     \u001b[38;5;28;01mif\u001b[39;00m n >= \u001b[32m2\u001b[39m:\n",
            "\u001b[36mFile \u001b[39m\u001b[32m~\\AppData\\Roaming\\Python\\Python313\\site-packages\\sympy\\core\\evalf.py:1489\u001b[39m, in \u001b[36mevalf\u001b[39m\u001b[34m(x, prec, options)\u001b[39m\n\u001b[32m   1487\u001b[39m \u001b[38;5;28;01mtry\u001b[39;00m:\n\u001b[32m   1488\u001b[39m     rf = evalf_table[\u001b[38;5;28mtype\u001b[39m(x)]\n\u001b[32m-> \u001b[39m\u001b[32m1489\u001b[39m     r = \u001b[43mrf\u001b[49m\u001b[43m(\u001b[49m\u001b[43mx\u001b[49m\u001b[43m,\u001b[49m\u001b[43m \u001b[49m\u001b[43mprec\u001b[49m\u001b[43m,\u001b[49m\u001b[43m \u001b[49m\u001b[43moptions\u001b[49m\u001b[43m)\u001b[49m\n\u001b[32m   1490\u001b[39m \u001b[38;5;28;01mexcept\u001b[39;00m \u001b[38;5;167;01mKeyError\u001b[39;00m:\n\u001b[32m   1491\u001b[39m     \u001b[38;5;66;03m# Fall back to ordinary evalf if possible\u001b[39;00m\n\u001b[32m   1492\u001b[39m     \u001b[38;5;28;01mif\u001b[39;00m \u001b[33m'\u001b[39m\u001b[33msubs\u001b[39m\u001b[33m'\u001b[39m \u001b[38;5;129;01min\u001b[39;00m options:\n",
            "\u001b[36mFile \u001b[39m\u001b[32m~\\AppData\\Roaming\\Python\\Python313\\site-packages\\sympy\\core\\evalf.py:650\u001b[39m, in \u001b[36mevalf_mul\u001b[39m\u001b[34m(v, prec, options)\u001b[39m\n\u001b[32m    648\u001b[39m \u001b[38;5;28;01mfrom\u001b[39;00m\u001b[38;5;250m \u001b[39m\u001b[34;01m.\u001b[39;00m\u001b[34;01mnumbers\u001b[39;00m\u001b[38;5;250m \u001b[39m\u001b[38;5;28;01mimport\u001b[39;00m Float\n\u001b[32m    649\u001b[39m \u001b[38;5;28;01mfor\u001b[39;00m arg \u001b[38;5;129;01min\u001b[39;00m args:\n\u001b[32m--> \u001b[39m\u001b[32m650\u001b[39m     result = \u001b[43mevalf\u001b[49m\u001b[43m(\u001b[49m\u001b[43marg\u001b[49m\u001b[43m,\u001b[49m\u001b[43m \u001b[49m\u001b[43mprec\u001b[49m\u001b[43m,\u001b[49m\u001b[43m \u001b[49m\u001b[43moptions\u001b[49m\u001b[43m)\u001b[49m\n\u001b[32m    651\u001b[39m     \u001b[38;5;28;01mif\u001b[39;00m result \u001b[38;5;129;01mis\u001b[39;00m S.ComplexInfinity:\n\u001b[32m    652\u001b[39m         special.append(result)\n",
            "\u001b[36mFile \u001b[39m\u001b[32m~\\AppData\\Roaming\\Python\\Python313\\site-packages\\sympy\\core\\evalf.py:1489\u001b[39m, in \u001b[36mevalf\u001b[39m\u001b[34m(x, prec, options)\u001b[39m\n\u001b[32m   1487\u001b[39m \u001b[38;5;28;01mtry\u001b[39;00m:\n\u001b[32m   1488\u001b[39m     rf = evalf_table[\u001b[38;5;28mtype\u001b[39m(x)]\n\u001b[32m-> \u001b[39m\u001b[32m1489\u001b[39m     r = \u001b[43mrf\u001b[49m\u001b[43m(\u001b[49m\u001b[43mx\u001b[49m\u001b[43m,\u001b[49m\u001b[43m \u001b[49m\u001b[43mprec\u001b[49m\u001b[43m,\u001b[49m\u001b[43m \u001b[49m\u001b[43moptions\u001b[49m\u001b[43m)\u001b[49m\n\u001b[32m   1490\u001b[39m \u001b[38;5;28;01mexcept\u001b[39;00m \u001b[38;5;167;01mKeyError\u001b[39;00m:\n\u001b[32m   1491\u001b[39m     \u001b[38;5;66;03m# Fall back to ordinary evalf if possible\u001b[39;00m\n\u001b[32m   1492\u001b[39m     \u001b[38;5;28;01mif\u001b[39;00m \u001b[33m'\u001b[39m\u001b[33msubs\u001b[39m\u001b[33m'\u001b[39m \u001b[38;5;129;01min\u001b[39;00m options:\n",
            "\u001b[36mFile \u001b[39m\u001b[32m~\\AppData\\Roaming\\Python\\Python313\\site-packages\\sympy\\core\\evalf.py:830\u001b[39m, in \u001b[36mevalf_pow\u001b[39m\u001b[34m(v, prec, options)\u001b[39m\n\u001b[32m    828\u001b[39m         \u001b[38;5;28;01mreturn\u001b[39;00m \u001b[38;5;28;01mNone\u001b[39;00m, mpf_sqrt(mpf_neg(xre), prec), \u001b[38;5;28;01mNone\u001b[39;00m, prec\n\u001b[32m    829\u001b[39m     \u001b[38;5;66;03m# Positive square root\u001b[39;00m\n\u001b[32m--> \u001b[39m\u001b[32m830\u001b[39m     \u001b[38;5;28;01mreturn\u001b[39;00m \u001b[43mmpf_sqrt\u001b[49m\u001b[43m(\u001b[49m\u001b[43mxre\u001b[49m\u001b[43m,\u001b[49m\u001b[43m \u001b[49m\u001b[43mprec\u001b[49m\u001b[43m)\u001b[49m, \u001b[38;5;28;01mNone\u001b[39;00m, prec, \u001b[38;5;28;01mNone\u001b[39;00m\n\u001b[32m    832\u001b[39m \u001b[38;5;66;03m# We first evaluate the exponent to find its magnitude\u001b[39;00m\n\u001b[32m    833\u001b[39m \u001b[38;5;66;03m# This determines the working precision that must be used\u001b[39;00m\n\u001b[32m    834\u001b[39m prec += \u001b[32m10\u001b[39m\n",
            "\u001b[36mFile \u001b[39m\u001b[32m~\\AppData\\Roaming\\Python\\Python313\\site-packages\\mpmath\\libmp\\libmpf.py:1387\u001b[39m, in \u001b[36mmpf_sqrt\u001b[39m\u001b[34m(s, prec, rnd)\u001b[39m\n\u001b[32m   1385\u001b[39m shift += shift & \u001b[32m1\u001b[39m\n\u001b[32m   1386\u001b[39m \u001b[38;5;28;01mif\u001b[39;00m rnd \u001b[38;5;129;01min\u001b[39;00m \u001b[33m'\u001b[39m\u001b[33mfd\u001b[39m\u001b[33m'\u001b[39m:\n\u001b[32m-> \u001b[39m\u001b[32m1387\u001b[39m     man = \u001b[43misqrt\u001b[49m\u001b[43m(\u001b[49m\u001b[43mman\u001b[49m\u001b[43m<<\u001b[49m\u001b[43mshift\u001b[49m\u001b[43m)\u001b[49m\n\u001b[32m   1388\u001b[39m \u001b[38;5;28;01melse\u001b[39;00m:\n\u001b[32m   1389\u001b[39m     man, rem = sqrtrem(man<<shift)\n",
            "\u001b[36mFile \u001b[39m\u001b[32m~\\AppData\\Roaming\\Python\\Python313\\site-packages\\mpmath\\libmp\\libintmath.py:301\u001b[39m, in \u001b[36misqrt_python\u001b[39m\u001b[34m(x)\u001b[39m\n\u001b[32m    299\u001b[39m \u001b[38;5;28;01mdef\u001b[39;00m\u001b[38;5;250m \u001b[39m\u001b[34misqrt_python\u001b[39m(x):\n\u001b[32m    300\u001b[39m \u001b[38;5;250m    \u001b[39m\u001b[33;03m\"\"\"Integer square root with correct (floor) rounding.\"\"\"\u001b[39;00m\n\u001b[32m--> \u001b[39m\u001b[32m301\u001b[39m     \u001b[38;5;28;01mreturn\u001b[39;00m \u001b[43msqrtrem_python\u001b[49m\u001b[43m(\u001b[49m\u001b[43mx\u001b[49m\u001b[43m)\u001b[49m[\u001b[32m0\u001b[39m]\n",
            "\u001b[36mFile \u001b[39m\u001b[32m~\\AppData\\Roaming\\Python\\Python313\\site-packages\\mpmath\\libmp\\libintmath.py:286\u001b[39m, in \u001b[36msqrtrem_python\u001b[39m\u001b[34m(x)\u001b[39m\n\u001b[32m    284\u001b[39m     y = isqrt_small_python(x)\n\u001b[32m    285\u001b[39m     \u001b[38;5;28;01mreturn\u001b[39;00m y, x - y*y\n\u001b[32m--> \u001b[39m\u001b[32m286\u001b[39m y = \u001b[43misqrt_fast_python\u001b[49m\u001b[43m(\u001b[49m\u001b[43mx\u001b[49m\u001b[43m)\u001b[49m + \u001b[32m1\u001b[39m\n\u001b[32m    287\u001b[39m rem = x - y*y\n\u001b[32m    288\u001b[39m \u001b[38;5;66;03m# Correct remainder\u001b[39;00m\n",
            "\u001b[36mFile \u001b[39m\u001b[32m~\\AppData\\Roaming\\Python\\Python313\\site-packages\\mpmath\\libmp\\libintmath.py:270\u001b[39m, in \u001b[36misqrt_fast_python\u001b[39m\u001b[34m(x)\u001b[39m\n\u001b[32m    267\u001b[39m pp = startprec\n\u001b[32m    268\u001b[39m \u001b[38;5;28;01mfor\u001b[39;00m p \u001b[38;5;129;01min\u001b[39;00m giant_steps(startprec, hbc):\n\u001b[32m    269\u001b[39m     \u001b[38;5;66;03m# r**2, scaled from real size 2**(-bc) to 2**p\u001b[39;00m\n\u001b[32m--> \u001b[39m\u001b[32m270\u001b[39m     r2 = (\u001b[43mr\u001b[49m\u001b[43m*\u001b[49m\u001b[43mr\u001b[49m) >> (\u001b[32m2\u001b[39m*pp - p)\n\u001b[32m    271\u001b[39m     \u001b[38;5;66;03m# x*r**2, scaled from real size ~1.0 to 2**p\u001b[39;00m\n\u001b[32m    272\u001b[39m     xr2 = ((x >> (bc-p)) * r2) >> p\n",
            "\u001b[31mKeyboardInterrupt\u001b[39m: "
          ]
        }
      ],
      "source": [
        "# Compute Jordan form using SymPy\n",
        "A_sym_jordan = Matrix(A_jordan)\n",
        "T_jordan, J = A_sym_jordan.jordan_form()\n",
        "\n",
        "print(\"\\nJordan form J:\")\n",
        "print(np.array(J).astype(np.float64))\n",
        "\n",
        "print(\"\\nTransformation matrix T:\")\n",
        "print(np.array(T_jordan).astype(np.float64))\n"
      ]
    },
    {
      "cell_type": "code",
      "execution_count": 48,
      "metadata": {},
      "outputs": [
        {
          "ename": "NameError",
          "evalue": "name 'T_jordan' is not defined",
          "output_type": "error",
          "traceback": [
            "\u001b[31m---------------------------------------------------------------------------\u001b[39m",
            "\u001b[31mNameError\u001b[39m                                 Traceback (most recent call last)",
            "\u001b[36mCell\u001b[39m\u001b[36m \u001b[39m\u001b[32mIn[48]\u001b[39m\u001b[32m, line 2\u001b[39m\n\u001b[32m      1\u001b[39m \u001b[38;5;66;03m# Verify: A = T @ J @ inv(T)\u001b[39;00m\n\u001b[32m----> \u001b[39m\u001b[32m2\u001b[39m T_jordan_np = np.array(\u001b[43mT_jordan\u001b[49m).astype(np.complex128)\n\u001b[32m      3\u001b[39m J_np = np.array(J).astype(np.complex128)\n\u001b[32m      5\u001b[39m A_reconstructed = T_jordan_np @ J_np @ np.linalg.inv(T_jordan_np)\n",
            "\u001b[31mNameError\u001b[39m: name 'T_jordan' is not defined"
          ]
        }
      ],
      "source": [
        "# Verify: A = T @ J @ inv(T)\n",
        "T_jordan_np = np.array(T_jordan).astype(np.complex128)\n",
        "J_np = np.array(J).astype(np.complex128)\n",
        "\n",
        "A_reconstructed = T_jordan_np @ J_np @ np.linalg.inv(T_jordan_np)\n",
        "print(\"Reconstructed A from T @ J @ T^(-1):\")\n",
        "print(np.real(A_reconstructed))\n",
        "\n",
        "reconstruction_error = np.linalg.norm(A_jordan - A_reconstructed)\n",
        "print(f\"\\nReconstruction error: {reconstruction_error:.2e}\")\n"
      ]
    },
    {
      "cell_type": "code",
      "execution_count": 49,
      "metadata": {},
      "outputs": [
        {
          "name": "stdout",
          "output_type": "stream",
          "text": [
            "\n",
            "Defective matrix (non-diagonalizable):\n",
            "[[2 1 0]\n",
            " [0 2 0]\n",
            " [0 0 3]]\n",
            "\n",
            "Jordan form (note the 1 above diagonal for repeated eigenvalue):\n",
            "[[2. 1. 0.]\n",
            " [0. 2. 0.]\n",
            " [0. 0. 3.]]\n"
          ]
        }
      ],
      "source": [
        "# Example with defective matrix (non-diagonalizable)\n",
        "A_defective = np.array([[2, 1, 0],\n",
        "                         [0, 2, 0],\n",
        "                         [0, 0, 3]])\n",
        "\n",
        "print(\"\\nDefective matrix (non-diagonalizable):\")\n",
        "print(A_defective)\n",
        "\n",
        "A_def_sym = Matrix(A_defective)\n",
        "T_def, J_def = A_def_sym.jordan_form()\n",
        "\n",
        "print(\"\\nJordan form (note the 1 above diagonal for repeated eigenvalue):\")\n",
        "print(np.array(J_def).astype(np.float64))\n"
      ]
    },
    {
      "cell_type": "markdown",
      "metadata": {},
      "source": [
        "## Section 1.9: Matrix Exponential\n",
        "\n",
        "### Mathematical Background\n",
        "\n",
        "Matrix exponential is defined as:\n",
        "\n",
        "$$e^{At} = I + At + \\frac{(At)^2}{2!} + \\frac{(At)^3}{3!} + \\cdots$$\n",
        "\n",
        "**Key Application:** Solution to linear differential equations\n",
        "\n",
        "For $\\dot{x} = Ax$, solution is $x(t) = e^{At}x_0$\n"
      ]
    },
    {
      "cell_type": "code",
      "execution_count": 50,
      "metadata": {},
      "outputs": [
        {
          "name": "stdout",
          "output_type": "stream",
          "text": [
            "Matrix A (typical state matrix):\n",
            "[[ 0  1]\n",
            " [-2 -3]]\n"
          ]
        }
      ],
      "source": [
        "# State matrix for a stable system\n",
        "A_exp = np.array([[0, 1],\n",
        "                   [-2, -3]])\n",
        "\n",
        "print(\"Matrix A (typical state matrix):\")\n",
        "print(A_exp)\n"
      ]
    },
    {
      "cell_type": "code",
      "execution_count": 51,
      "metadata": {},
      "outputs": [
        {
          "name": "stdout",
          "output_type": "stream",
          "text": [
            "\n",
            "exp(A*0) (should be identity):\n",
            "[[1. 0.]\n",
            " [0. 1.]]\n"
          ]
        }
      ],
      "source": [
        "# Compute matrix exponential at t = 0\n",
        "exp_A0 = la.expm(A_exp * 0)\n",
        "print(\"\\nexp(A*0) (should be identity):\")\n",
        "print(exp_A0)\n"
      ]
    },
    {
      "cell_type": "code",
      "execution_count": 52,
      "metadata": {},
      "outputs": [
        {
          "name": "stdout",
          "output_type": "stream",
          "text": [
            "\n",
            "exp(A*1):\n",
            "[[ 0.6004236   0.23254416]\n",
            " [-0.46508832 -0.09720887]]\n"
          ]
        }
      ],
      "source": [
        "# Compute at t = 1\n",
        "t = 1\n",
        "exp_At = la.expm(A_exp * t)\n",
        "print(f\"\\nexp(A*{t}):\")\n",
        "print(exp_At)\n"
      ]
    },
    {
      "cell_type": "code",
      "execution_count": 53,
      "metadata": {},
      "outputs": [
        {
          "name": "stdout",
          "output_type": "stream",
          "text": [
            "\n",
            "If x(0) = [1, 0], then x(1) = exp(A*1) @ x(0) =\n",
            "[ 0.6004236  -0.46508832]\n"
          ]
        }
      ],
      "source": [
        "# State transition: if x(0) = [1; 0], what is x(1)?\n",
        "x0 = np.array([1, 0])\n",
        "x_t = exp_At @ x0\n",
        "print(f\"\\nIf x(0) = [1, 0], then x({t}) = exp(A*{t}) @ x(0) =\")\n",
        "print(x_t)\n"
      ]
    },
    {
      "cell_type": "markdown",
      "metadata": {},
      "source": []
    },
    {
      "cell_type": "code",
      "execution_count": 54,
      "metadata": {},
      "outputs": [
        {
          "data": {
            "image/png": "[encoded data removed]",
            "text/plain": [
              "<Figure size 1000x800 with 2 Axes>"
            ]
          },
          "metadata": {},
          "output_type": "display_data"
        }
      ],
      "source": [
        "# Compute trajectory over time\n",
        "t_span = np.linspace(0, 5, 100)  # from 0 to 5, 100 points\n",
        "x_trajectory = np.zeros((2, len(t_span)))\n",
        "\n",
        "for i in range(len(t_span)):\n",
        "    x_trajectory[:, i] = la.expm(A_exp * t_span[i]) @ x0\n",
        "\n",
        "# Plot state variables vs time\n",
        "fig, (ax1, ax2) = plt.subplots(2, 1, figsize=(10, 8))\n",
        "\n",
        "ax1.plot(t_span, x_trajectory[0, :], 'b-', linewidth=2)\n",
        "ax1.grid(True)\n",
        "ax1.set_xlabel('Time (s)')\n",
        "ax1.set_ylabel('$x_1(t)$')\n",
        "ax1.set_title('State $x_1$ vs Time')\n",
        "\n",
        "ax2.plot(t_span, x_trajectory[1, :], 'r-', linewidth=2)\n",
        "ax2.grid(True)\n",
        "ax2.set_xlabel('Time (s)')\n",
        "ax2.set_ylabel('$x_2(t)$')\n",
        "ax2.set_title('State $x_2$ vs Time')\n",
        "\n",
        "plt.tight_layout()\n",
        "plt.show()\n"
      ]
    },
    {
      "cell_type": "markdown",
      "metadata": {},
      "source": [
        "### Phase Portrait\n"
      ]
    },
    {
      "cell_type": "code",
      "execution_count": 55,
      "metadata": {},
      "outputs": [
        {
          "data": {
            "image/png": "[encoded data removed]",
            "text/plain": [
              "<Figure size 1000x800 with 1 Axes>"
            ]
          },
          "metadata": {},
          "output_type": "display_data"
        },
        {
          "name": "stdout",
          "output_type": "stream",
          "text": [
            "\n",
            "System decays to zero (stable) as eigenvalues have negative real parts\n",
            "Eigenvalues of A: [-1. -2.]\n"
          ]
        }
      ],
      "source": [
        "# Phase portrait\n",
        "plt.figure(figsize=(10, 8))\n",
        "plt.plot(x_trajectory[0, :], x_trajectory[1, :], 'b-', linewidth=2, label='Trajectory')\n",
        "plt.plot(x0[0], x0[1], 'go', markersize=12, markerfacecolor='g', label='Initial')\n",
        "plt.plot(x_trajectory[0, -1], x_trajectory[1, -1], 'rs', markersize=12, \n",
        "         markerfacecolor='r', label='Final')\n",
        "plt.grid(True)\n",
        "plt.xlabel('$x_1$')\n",
        "plt.ylabel('$x_2$')\n",
        "plt.title('Phase Portrait: $x_2$ vs $x_1$')\n",
        "plt.legend(loc='best')\n",
        "plt.axis('equal')\n",
        "plt.tight_layout()\n",
        "plt.show()\n",
        "\n",
        "print(\"\\nSystem decays to zero (stable) as eigenvalues have negative real parts\")\n",
        "print(f\"Eigenvalues of A: {np.linalg.eigvals(A_exp)}\")\n"
      ]
    },
    {
      "cell_type": "markdown",
      "metadata": {},
      "source": [
        "## Section 1.10: Summary and Key Takeaways\n",
        "\n",
        "### Key Concepts Covered\n",
        "\n",
        "1. **Matrix operations:** addition, multiplication, transpose, concatenation\n",
        "2. **Matrix properties:** determinant, rank, trace, inverse, condition number\n",
        "3. **Matrix norms:** 1-norm, 2-norm, infinity-norm, Frobenius norm\n",
        "4. **Triangular matrices:** upper, lower, diagonal\n",
        "5. **Linear equations:** solving $Ax=b$, null space, orthogonality\n",
        "6. **Eigenanalysis:** eigenvalues, eigenvectors, characteristic polynomial\n",
        "7. **Similarity transformations** and invariants\n",
        "8. **Jordan normal form** for matrices with repeated eigenvalues\n",
        "9. **Matrix exponential** for solving linear differential equations\n"
      ]
    },
    {
      "cell_type": "markdown",
      "metadata": {},
      "source": [
        "### Python/NumPy Function Reference\n",
        "\n",
        "| Operation | MATLAB | Python/NumPy/SciPy |\n",
        "|-----------|--------|---------------------|\n",
        "| Matrix multiplication | `A * B` | `A @ B` or `np.dot(A, B)` |\n",
        "| Element-wise multiplication | `A .* B` | `A * B` |\n",
        "| Transpose | `A'` or `A.'` | `A.T` |\n",
        "| Conjugate transpose | `A'` | `A.conj().T` |\n",
        "| Inverse | `inv(A)` | `np.linalg.inv(A)` |\n",
        "| Determinant | `det(A)` | `np.linalg.det(A)` |\n",
        "| Rank | `rank(A)` | `np.linalg.matrix_rank(A)` |\n",
        "| Trace | `trace(A)` | `np.trace(A)` |\n",
        "| Condition number | `cond(A)` | `np.linalg.cond(A)` |\n",
        "| Norm | `norm(A, p)` | `np.linalg.norm(A, p)` |\n",
        "| Upper triangular | `triu(A)` | `np.triu(A)` |\n",
        "| Lower triangular | `tril(A)` | `np.tril(A)` |\n",
        "| Diagonal | `diag(A)` | `np.diag(A)` |\n",
        "| Null space | `null(A)` | `scipy.linalg.null_space(A)` |\n",
        "| Orthonormal basis | `orth(A)` | `scipy.linalg.orth(A)` |\n",
        "| Dot product | `dot(u, v)` | `np.dot(u, v)` |\n",
        "| Solve linear system | `A \\ b` | `np.linalg.solve(A, b)` |\n",
        "| Eigenvalues & vectors | `[V, D] = eig(A)` | `vals, vecs = np.linalg.eig(A)` |\n",
        "| Characteristic polynomial | `poly(A)` or `charpoly(A)` | SymPy: `Matrix(A).charpoly(λ)` |\n",
        "| Jordan form | `[T, J] = jordan(A)` | SymPy: `Matrix(A).jordan_form()` |\n",
        "| Matrix exponential | `expm(A)` | `scipy.linalg.expm(A)` |\n",
        "| Identity matrix | `eye(n)` | `np.eye(n)` |\n",
        "| Zeros matrix | `zeros(m, n)` | `np.zeros((m, n))` |\n",
        "| Ones matrix | `ones(m, n)` | `np.ones((m, n))` |\n",
        "| Random matrix | `rand(m, n)` | `np.random.rand(m, n)` |\n"
      ]
    },
    {
      "cell_type": "markdown",
      "metadata": {},
      "source": [
        "### Key Differences: Python vs MATLAB\n",
        "\n",
        "**Indexing:**\n",
        "- MATLAB uses 1-based indexing: `A(1, 1)` is the first element\n",
        "- Python uses 0-based indexing: `A[0, 0]` is the first element\n",
        "\n",
        "**Matrix Multiplication:**\n",
        "- MATLAB: `*` is matrix multiplication, `.*` is element-wise\n",
        "- Python/NumPy: `@` is matrix multiplication, `*` is element-wise\n",
        "\n",
        "**Complex Numbers:**\n",
        "- MATLAB: use `i` or `j` (e.g., `2 + 3i`)\n",
        "- Python: use `1j` (e.g., `2 + 3j`)\n",
        "\n",
        "**Array Creation:**\n",
        "- MATLAB: `zeros(m, n)` creates m×n matrix\n",
        "- Python: `np.zeros((m, n))` requires tuple for shape\n",
        "\n",
        "**Printing:**\n",
        "- MATLAB: `fprintf()` or `disp()`\n",
        "- Python: `print()` with f-strings for formatting\n"
      ]
    },
    {
      "cell_type": "markdown",
      "metadata": {},
      "source": [
        "### Next Steps\n",
        "\n",
        "These mathematical tools will be applied to:\n",
        "- State-space modeling\n",
        "- Controllability and observability analysis\n",
        "- Stability analysis using Lyapunov theory\n",
        "- Observer and controller design\n",
        "\n",
        "### Further Resources\n",
        "\n",
        "- [NumPy Documentation](https://numpy.org/doc/stable/)\n",
        "- [SciPy Linear Algebra Guide](https://docs.scipy.org/doc/scipy/reference/linalg.html)\n",
        "- [SymPy Tutorial](https://docs.sympy.org/latest/tutorial/index.html)\n",
        "- [Matplotlib Gallery](https://matplotlib.org/stable/gallery/index.html)\n"
      ]
    }
  ],
  "metadata": {
    "kernelspec": {
      "display_name": "Python 3",
      "language": "python",
      "name": "python3"
    },
    "language_info": {
      "codemirror_mode": {
        "name": "ipython",
        "version": 3
      },
      "file_extension": ".py",
      "mimetype": "text/x-python",
      "name": "python",
      "nbconvert_exporter": "python",
      "pygments_lexer": "ipython3",
      "version": "3.13.5"
    }
  },
  "nbformat": 4,
  "nbformat_minor": 2
}
